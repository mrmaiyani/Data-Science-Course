{
 "cells": [
  {
   "cell_type": "code",
   "execution_count": 1,
   "id": "bf5781e3",
   "metadata": {},
   "outputs": [
    {
     "name": "stdout",
     "output_type": "stream",
     "text": [
      "Hello World\n"
     ]
    }
   ],
   "source": [
    "print(\"Hello World\")"
   ]
  },
  {
   "cell_type": "code",
   "execution_count": 2,
   "id": "630a9865",
   "metadata": {},
   "outputs": [],
   "source": [
    "a = 0"
   ]
  },
  {
   "cell_type": "code",
   "execution_count": null,
   "id": "9a76b5b8",
   "metadata": {},
   "outputs": [],
   "source": []
  },
  {
   "cell_type": "code",
   "execution_count": null,
   "id": "c95c36fb",
   "metadata": {},
   "outputs": [],
   "source": []
  },
  {
   "cell_type": "markdown",
   "id": "763fd6ef",
   "metadata": {},
   "source": [
    "# Python Tutorial "
   ]
  },
  {
   "cell_type": "markdown",
   "id": "8b222f00",
   "metadata": {},
   "source": [
    "python is general purpose object orient programming language\n",
    "## Name Who Use Python:\n",
    "- Radhe\n",
    "- Krishn\n",
    "- Gopi\n",
    "- Utsav"
   ]
  },
  {
   "cell_type": "code",
   "execution_count": 3,
   "id": "41305416",
   "metadata": {},
   "outputs": [],
   "source": [
    "a = 5"
   ]
  },
  {
   "cell_type": "code",
   "execution_count": 4,
   "id": "6a99e1bf",
   "metadata": {},
   "outputs": [],
   "source": [
    "b = 8"
   ]
  },
  {
   "cell_type": "code",
   "execution_count": 5,
   "id": "4efee48e",
   "metadata": {},
   "outputs": [
    {
     "data": {
      "text/plain": [
       "13"
      ]
     },
     "execution_count": 5,
     "metadata": {},
     "output_type": "execute_result"
    }
   ],
   "source": [
    "a + b"
   ]
  },
  {
   "cell_type": "code",
   "execution_count": 6,
   "id": "3176eef8",
   "metadata": {},
   "outputs": [],
   "source": [
    "c = 5"
   ]
  },
  {
   "cell_type": "code",
   "execution_count": 7,
   "id": "ac0972fc",
   "metadata": {},
   "outputs": [],
   "source": [
    "d = 5\n",
    "e = 64"
   ]
  },
  {
   "cell_type": "code",
   "execution_count": null,
   "id": "4afd054c",
   "metadata": {},
   "outputs": [],
   "source": [
    "d = 66"
   ]
  }
 ],
 "metadata": {
  "kernelspec": {
   "display_name": "Python 3",
   "language": "python",
   "name": "python3"
  },
  "language_info": {
   "codemirror_mode": {
    "name": "ipython",
    "version": 3
   },
   "file_extension": ".py",
   "mimetype": "text/x-python",
   "name": "python",
   "nbconvert_exporter": "python",
   "pygments_lexer": "ipython3",
   "version": "3.6.13"
  }
 },
 "nbformat": 4,
 "nbformat_minor": 5
}
