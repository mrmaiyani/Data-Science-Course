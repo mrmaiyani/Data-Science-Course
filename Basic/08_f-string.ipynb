{
 "cells": [
  {
   "cell_type": "markdown",
   "id": "32f6bed1-bf19-429e-bb9c-5d3eedb62bf3",
   "metadata": {},
   "source": [
    "# String Formatting In Python"
   ]
  },
  {
   "cell_type": "markdown",
   "id": "f51ed52b-d74e-4c48-9c9b-793f78405e75",
   "metadata": {},
   "source": [
    "## 1. Using format()"
   ]
  },
  {
   "cell_type": "code",
   "execution_count": 2,
   "id": "1d537dca-31b6-4c83-84c0-8dfde9af79cf",
   "metadata": {},
   "outputs": [],
   "source": [
    "name = \"Utsav\"\n",
    "age = 18"
   ]
  },
  {
   "cell_type": "code",
   "execution_count": 4,
   "id": "40c48918-acc6-4042-b76d-14bc752b8418",
   "metadata": {},
   "outputs": [
    {
     "name": "stdout",
     "output_type": "stream",
     "text": [
      "My Name Is Utsav And I Am 18 Years Old.\n"
     ]
    }
   ],
   "source": [
    "print(\"My Name Is {} And I Am {} Years Old.\".format(name,age))"
   ]
  },
  {
   "cell_type": "code",
   "execution_count": 8,
   "id": "6a6c1953-2bda-4259-ad93-f6f898aef1bc",
   "metadata": {},
   "outputs": [
    {
     "name": "stdout",
     "output_type": "stream",
     "text": [
      "Utsav Is Learning Data Science.\n"
     ]
    }
   ],
   "source": [
    "print(\"{0} Is Learning {1}.\".format(\"Utsav\",\"Data Science\"))"
   ]
  },
  {
   "cell_type": "code",
   "execution_count": 9,
   "id": "92a69b37-81fd-4630-bb49-80cb84ae27a9",
   "metadata": {},
   "outputs": [
    {
     "name": "stdout",
     "output_type": "stream",
     "text": [
      "Utsav Is Learning Data Science.\n"
     ]
    }
   ],
   "source": [
    "print(\"{name} Is Learning {language}.\".format(name=\"Utsav\",language=\"Data Science\"))"
   ]
  },
  {
   "cell_type": "markdown",
   "id": "3e194d1d-1c58-4ec8-ae3e-03aaff2b39b7",
   "metadata": {},
   "source": [
    "## 2. Using f-strings (Recommended)"
   ]
  },
  {
   "cell_type": "code",
   "execution_count": 15,
   "id": "61580d1e-d44e-45e0-b14a-4aab4e29b1dd",
   "metadata": {},
   "outputs": [],
   "source": [
    "name = \"Utsav\"\n",
    "age = 18\n",
    "language = \"Data science\""
   ]
  },
  {
   "cell_type": "code",
   "execution_count": 16,
   "id": "ba809350-542f-425b-b454-89c4ba73feff",
   "metadata": {},
   "outputs": [
    {
     "name": "stdout",
     "output_type": "stream",
     "text": [
      "My Name Is Utsav And I Am 18 Years Old.\n"
     ]
    }
   ],
   "source": [
    "print(f\"My Name Is {name} And I Am {age} Years Old.\")"
   ]
  },
  {
   "cell_type": "code",
   "execution_count": 17,
   "id": "4ec786ae-4f22-4ffb-9200-deee12fbb52b",
   "metadata": {},
   "outputs": [
    {
     "name": "stdout",
     "output_type": "stream",
     "text": [
      "Utsav Is Learning Data science.\n"
     ]
    }
   ],
   "source": [
    "print(f\"{name} Is Learning {language}.\")"
   ]
  },
  {
   "cell_type": "markdown",
   "id": "9820a86a-8183-47e8-9f0b-6298bde40c64",
   "metadata": {},
   "source": [
    "###  Expression Inside f-String"
   ]
  },
  {
   "cell_type": "code",
   "execution_count": 18,
   "id": "4ed1795d-ce92-4933-a4ec-16d1d9cf96f1",
   "metadata": {},
   "outputs": [],
   "source": [
    "a = 5\n",
    "b =10"
   ]
  },
  {
   "cell_type": "code",
   "execution_count": 19,
   "id": "5fc53d04-891f-4111-8387-d617e354279b",
   "metadata": {},
   "outputs": [
    {
     "name": "stdout",
     "output_type": "stream",
     "text": [
      "Sum Of 5 and 10 Is 15\n"
     ]
    }
   ],
   "source": [
    "print(f\"Sum Of {a} and {b} Is {a + b}\")"
   ]
  },
  {
   "cell_type": "code",
   "execution_count": 21,
   "id": "3b74740b-ff81-4434-9ea6-cb12a7814161",
   "metadata": {},
   "outputs": [
    {
     "name": "stdout",
     "output_type": "stream",
     "text": [
      "Substraction Of 5 And 10 Is -5\n"
     ]
    }
   ],
   "source": [
    "print(f\"Substraction Of {a} And {b} Is {a - b}\")"
   ]
  },
  {
   "cell_type": "markdown",
   "id": "f2c4f65c-5f37-470c-85a7-ce1fb32adf77",
   "metadata": {},
   "source": [
    "### Formatting Numbers"
   ]
  },
  {
   "cell_type": "code",
   "execution_count": 22,
   "id": "0110029d-386c-455e-90b7-705e62ac0450",
   "metadata": {},
   "outputs": [],
   "source": [
    "pi = 3.14159"
   ]
  },
  {
   "cell_type": "code",
   "execution_count": 24,
   "id": "307a1803-f3b9-4875-a8ac-6c4fb6bbfce1",
   "metadata": {},
   "outputs": [
    {
     "name": "stdout",
     "output_type": "stream",
     "text": [
      "Pi Rounded To 2 Decimal Places : 3.14\n"
     ]
    }
   ],
   "source": [
    "print(f\"Pi Rounded To 2 Decimal Places : {pi:.2f}\")"
   ]
  },
  {
   "cell_type": "markdown",
   "id": "6084b795-3352-4276-b304-aa85ba3f8e30",
   "metadata": {},
   "source": [
    "### Padding And Alignment"
   ]
  },
  {
   "cell_type": "code",
   "execution_count": 25,
   "id": "ae4dcff2-891b-479b-9b0e-b0d0fa9c146e",
   "metadata": {},
   "outputs": [
    {
     "name": "stdout",
     "output_type": "stream",
     "text": [
      "Python    \n"
     ]
    }
   ],
   "source": [
    "print(f\"{'Python':<10}\") #left-alignment"
   ]
  },
  {
   "cell_type": "code",
   "execution_count": 26,
   "id": "16dc2c4a-bf29-4529-9ce6-f8f38b5c0046",
   "metadata": {},
   "outputs": [
    {
     "name": "stdout",
     "output_type": "stream",
     "text": [
      "    Python\n"
     ]
    }
   ],
   "source": [
    "print(f\"{'Python':>10}\") #right-alignment"
   ]
  },
  {
   "cell_type": "code",
   "execution_count": 27,
   "id": "9bd28fa3-00ee-4127-b080-e6ff5b14f376",
   "metadata": {},
   "outputs": [
    {
     "name": "stdout",
     "output_type": "stream",
     "text": [
      "  Python  \n"
     ]
    }
   ],
   "source": [
    "print(f\"{'Python':^10}\") #center-alignment"
   ]
  }
 ],
 "metadata": {
  "kernelspec": {
   "display_name": "Python [conda env:base] *",
   "language": "python",
   "name": "conda-base-py"
  },
  "language_info": {
   "codemirror_mode": {
    "name": "ipython",
    "version": 3
   },
   "file_extension": ".py",
   "mimetype": "text/x-python",
   "name": "python",
   "nbconvert_exporter": "python",
   "pygments_lexer": "ipython3",
   "version": "3.13.5"
  }
 },
 "nbformat": 4,
 "nbformat_minor": 5
}
