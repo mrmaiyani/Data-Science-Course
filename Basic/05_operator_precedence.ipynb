{
 "cells": [
  {
   "cell_type": "markdown",
   "id": "d794baf7-4132-4c3d-b050-d801f80ad7cd",
   "metadata": {},
   "source": [
    "## Precedence\n",
    "1. Parentheses()\n",
    "2. Exponents **\n",
    "3. Multiplication *\n",
    "4. Divison /\n",
    "5. Addition +\n",
    "6. Substraction -"
   ]
  },
  {
   "cell_type": "code",
   "execution_count": 1,
   "id": "85cb5e29-9e8b-4317-8bb7-d712468defef",
   "metadata": {},
   "outputs": [],
   "source": [
    "result = 10 + 2 * 3"
   ]
  },
  {
   "cell_type": "code",
   "execution_count": 2,
   "id": "eae859c7-7523-476c-87c8-4f25f1324b00",
   "metadata": {},
   "outputs": [
    {
     "data": {
      "text/plain": [
       "16"
      ]
     },
     "execution_count": 2,
     "metadata": {},
     "output_type": "execute_result"
    }
   ],
   "source": [
    "result"
   ]
  },
  {
   "cell_type": "code",
   "execution_count": 3,
   "id": "56dbc01f-17c9-49b9-983d-ceecd3d755b5",
   "metadata": {},
   "outputs": [],
   "source": [
    "result = (10 + 2) * 3"
   ]
  },
  {
   "cell_type": "code",
   "execution_count": 4,
   "id": "0cbc691e-ca5f-40c9-b7f8-8e07441e8dd8",
   "metadata": {},
   "outputs": [
    {
     "data": {
      "text/plain": [
       "36"
      ]
     },
     "execution_count": 4,
     "metadata": {},
     "output_type": "execute_result"
    }
   ],
   "source": [
    "result"
   ]
  },
  {
   "cell_type": "code",
   "execution_count": 5,
   "id": "6897b457-89bb-429b-b832-2caa5f0e58a7",
   "metadata": {},
   "outputs": [],
   "source": [
    "result = 2 ** 3 ** 2"
   ]
  },
  {
   "cell_type": "code",
   "execution_count": 6,
   "id": "3e58fed2-8715-4811-a550-41013250c837",
   "metadata": {},
   "outputs": [
    {
     "data": {
      "text/plain": [
       "512"
      ]
     },
     "execution_count": 6,
     "metadata": {},
     "output_type": "execute_result"
    }
   ],
   "source": [
    "result"
   ]
  },
  {
   "cell_type": "code",
   "execution_count": 7,
   "id": "449927cd-233a-4f5b-be8f-44aaaa361a59",
   "metadata": {},
   "outputs": [],
   "source": [
    "#MIMP for interview: ** has the highest precedence and is evaluated right to left.\n",
    "# * , / , // , and % has lower precedence than ** but are evaluated left to right. "
   ]
  }
 ],
 "metadata": {
  "kernelspec": {
   "display_name": "Python [conda env:base] *",
   "language": "python",
   "name": "conda-base-py"
  },
  "language_info": {
   "codemirror_mode": {
    "name": "ipython",
    "version": 3
   },
   "file_extension": ".py",
   "mimetype": "text/x-python",
   "name": "python",
   "nbconvert_exporter": "python",
   "pygments_lexer": "ipython3",
   "version": "3.13.5"
  }
 },
 "nbformat": 4,
 "nbformat_minor": 5
}
