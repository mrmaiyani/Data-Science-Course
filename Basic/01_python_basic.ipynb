{
 "cells": [
  {
   "cell_type": "code",
   "execution_count": 1,
   "id": "bc7c894d-5299-4b24-a49d-cff74c0c5d93",
   "metadata": {},
   "outputs": [],
   "source": [
    "a = 12"
   ]
  },
  {
   "cell_type": "code",
   "execution_count": 2,
   "id": "bea69934-482a-400f-88ad-f1a400b13353",
   "metadata": {},
   "outputs": [],
   "source": [
    "b = 18"
   ]
  },
  {
   "cell_type": "code",
   "execution_count": 3,
   "id": "65e28d1d-4772-4004-bd9a-717e7db06cf6",
   "metadata": {},
   "outputs": [
    {
     "data": {
      "text/plain": [
       "30"
      ]
     },
     "execution_count": 3,
     "metadata": {},
     "output_type": "execute_result"
    }
   ],
   "source": [
    "a + b"
   ]
  },
  {
   "cell_type": "code",
   "execution_count": 4,
   "id": "24b983ef-c9fb-479b-8f98-d4a8e63d65cf",
   "metadata": {},
   "outputs": [],
   "source": [
    "name = \"utsav\""
   ]
  },
  {
   "cell_type": "code",
   "execution_count": 5,
   "id": "cc06e24e-ffa4-4394-8dbd-7556dd556601",
   "metadata": {},
   "outputs": [
    {
     "name": "stdout",
     "output_type": "stream",
     "text": [
      "Hello World\n"
     ]
    }
   ],
   "source": [
    "print(\"Hello World\")"
   ]
  },
  {
   "cell_type": "code",
   "execution_count": 6,
   "id": "784942a2-9acb-49f3-9d16-0a4c1edbd7af",
   "metadata": {},
   "outputs": [],
   "source": [
    "# this is a single line comment"
   ]
  },
  {
   "cell_type": "code",
   "execution_count": 7,
   "id": "1e7d0ad2-b21f-40fe-9ca1-13e5bca69e6f",
   "metadata": {},
   "outputs": [
    {
     "data": {
      "text/plain": [
       "int"
      ]
     },
     "execution_count": 7,
     "metadata": {},
     "output_type": "execute_result"
    }
   ],
   "source": [
    "type(a)"
   ]
  },
  {
   "cell_type": "code",
   "execution_count": 8,
   "id": "f62716ad-026a-4b66-b207-375bc201ec26",
   "metadata": {},
   "outputs": [
    {
     "data": {
      "text/plain": [
       "str"
      ]
     },
     "execution_count": 8,
     "metadata": {},
     "output_type": "execute_result"
    }
   ],
   "source": [
    "type(name)"
   ]
  },
  {
   "cell_type": "code",
   "execution_count": 9,
   "id": "c79ac07b-c602-40ca-9445-d8757e02d320",
   "metadata": {},
   "outputs": [],
   "source": [
    "a = \"1836\""
   ]
  },
  {
   "cell_type": "code",
   "execution_count": 10,
   "id": "6a06acc1-7aed-42f2-a358-9153f938b284",
   "metadata": {},
   "outputs": [],
   "source": [
    "b = \"6534\""
   ]
  },
  {
   "cell_type": "code",
   "execution_count": 11,
   "id": "928ecaad-0c39-4870-aa7e-603c3ba64ef8",
   "metadata": {},
   "outputs": [
    {
     "data": {
      "text/plain": [
       "'18366534'"
      ]
     },
     "execution_count": 11,
     "metadata": {},
     "output_type": "execute_result"
    }
   ],
   "source": [
    "a + b"
   ]
  },
  {
   "cell_type": "code",
   "execution_count": 12,
   "id": "2ffed6e1-7500-436a-8051-761fdddc526b",
   "metadata": {},
   "outputs": [
    {
     "data": {
      "text/plain": [
       "8370"
      ]
     },
     "execution_count": 12,
     "metadata": {},
     "output_type": "execute_result"
    }
   ],
   "source": [
    "int(a) + int(b)  #this is type casting"
   ]
  }
 ],
 "metadata": {
  "kernelspec": {
   "display_name": "Python [conda env:base] *",
   "language": "python",
   "name": "conda-base-py"
  },
  "language_info": {
   "codemirror_mode": {
    "name": "ipython",
    "version": 3
   },
   "file_extension": ".py",
   "mimetype": "text/x-python",
   "name": "python",
   "nbconvert_exporter": "python",
   "pygments_lexer": "ipython3",
   "version": "3.13.5"
  }
 },
 "nbformat": 4,
 "nbformat_minor": 5
}
