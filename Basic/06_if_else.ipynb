{
 "cells": [
  {
   "cell_type": "markdown",
   "id": "51c86e4a-d367-4634-818c-30d75ea370ef",
   "metadata": {},
   "source": [
    "## if Statement"
   ]
  },
  {
   "cell_type": "code",
   "execution_count": 1,
   "id": "8716b8fe-3581-4dd6-bc5d-65eb809a8a32",
   "metadata": {},
   "outputs": [],
   "source": [
    "x = 10"
   ]
  },
  {
   "cell_type": "code",
   "execution_count": 2,
   "id": "af0d13ec-3ca3-4d5f-9baf-23f18a3e17fd",
   "metadata": {},
   "outputs": [
    {
     "name": "stdout",
     "output_type": "stream",
     "text": [
      "X Is Greater Than 5.\n"
     ]
    }
   ],
   "source": [
    "if (x > 5):\n",
    "    print(\"X Is Greater Than 5.\")"
   ]
  },
  {
   "cell_type": "markdown",
   "id": "7e7d08f3-bc64-468a-9af7-b26cb4b9bd20",
   "metadata": {},
   "source": [
    "## if-else Statement"
   ]
  },
  {
   "cell_type": "code",
   "execution_count": 3,
   "id": "52cc2e6c-fd91-4181-a253-fe8fc5b6ab13",
   "metadata": {},
   "outputs": [
    {
     "name": "stdout",
     "output_type": "stream",
     "text": [
      "X Is Greater Than 5.\n"
     ]
    }
   ],
   "source": [
    "if (x > 5):\n",
    "    print(\"X Is Greater Than 5.\")\n",
    "else:\n",
    "    print(\"X Is Less Than 5 or equal to 5.\")"
   ]
  },
  {
   "cell_type": "markdown",
   "id": "c88ec82b-d085-426d-b319-05681833205f",
   "metadata": {},
   "source": [
    "## if-elif-else Statement"
   ]
  },
  {
   "cell_type": "code",
   "execution_count": 6,
   "id": "96d698e3-f40c-4a5c-95d8-bfe2c363b3f3",
   "metadata": {},
   "outputs": [],
   "source": [
    "percentage = 80\n",
    "p = percentage"
   ]
  },
  {
   "cell_type": "code",
   "execution_count": 7,
   "id": "61e28e3e-2008-4273-b1b2-9435b2827fab",
   "metadata": {},
   "outputs": [
    {
     "name": "stdout",
     "output_type": "stream",
     "text": [
      "C Grade\n"
     ]
    }
   ],
   "source": [
    "if (p > 90):\n",
    "    print(\"A Grade\")\n",
    "elif (p > 80):\n",
    "    print(\"B Grade\")\n",
    "elif (p > 70):\n",
    "    print(\"C Grade\")\n",
    "elif (p > 60):\n",
    "    print(\"D Grade\")\n",
    "elif (p > 50):\n",
    "    print(\"E Grade\")\n",
    "else :\n",
    "    print(\"Fail\")"
   ]
  },
  {
   "cell_type": "markdown",
   "id": "c5729df1-3328-412f-b1c5-45d0ddeab63b",
   "metadata": {},
   "source": [
    "# Functions in Python"
   ]
  },
  {
   "cell_type": "markdown",
   "id": "932a0c4f-87a0-4797-abaa-68e9d2cbe1b1",
   "metadata": {},
   "source": [
    "## 1. Defining a Function"
   ]
  },
  {
   "cell_type": "code",
   "execution_count": 9,
   "id": "49357138-5c54-4a61-8f4d-8fd36099af6d",
   "metadata": {},
   "outputs": [],
   "source": [
    "def greet(name):\n",
    "    return f\"Hello, {name}!\""
   ]
  },
  {
   "cell_type": "markdown",
   "id": "5078a4b9-5ed9-4e95-899e-f1038bd4432a",
   "metadata": {},
   "source": [
    "## 2. Calling a Function"
   ]
  },
  {
   "cell_type": "code",
   "execution_count": 10,
   "id": "3a1213a8-6ef3-41eb-88e3-13240d9b566b",
   "metadata": {},
   "outputs": [
    {
     "name": "stdout",
     "output_type": "stream",
     "text": [
      "Hello, Utsav!\n"
     ]
    }
   ],
   "source": [
    "print(greet(\"Utsav\"))"
   ]
  },
  {
   "cell_type": "markdown",
   "id": "7ed0c66e-8728-4ab2-b975-fcdf6b293935",
   "metadata": {},
   "source": [
    "## 3. Function With Argument"
   ]
  },
  {
   "cell_type": "code",
   "execution_count": 11,
   "id": "bd26565f-edf7-40b2-ad64-d37565b35f4f",
   "metadata": {},
   "outputs": [],
   "source": [
    "def greet(name=\"Unknown\"): # default value \n",
    "    return f\"Hello,{name}!\""
   ]
  },
  {
   "cell_type": "markdown",
   "id": "b2bdf421-14bb-45e7-a8fd-960d3c1c6209",
   "metadata": {},
   "source": [
    "## 4. Function With Multiple Arguments"
   ]
  },
  {
   "cell_type": "code",
   "execution_count": 19,
   "id": "0b71707e-a63a-4600-ace7-5cb3e6a55880",
   "metadata": {},
   "outputs": [],
   "source": [
    "def add(a, b):\n",
    "    return a + b"
   ]
  },
  {
   "cell_type": "code",
   "execution_count": 20,
   "id": "ebca031a-5e1b-4ff5-a75c-a45b0f795313",
   "metadata": {},
   "outputs": [
    {
     "data": {
      "text/plain": [
       "8"
      ]
     },
     "execution_count": 20,
     "metadata": {},
     "output_type": "execute_result"
    }
   ],
   "source": [
    "add(3,5)"
   ]
  },
  {
   "cell_type": "code",
   "execution_count": 21,
   "id": "6c197fe0-8fdd-4417-9348-1c7a3e920dfe",
   "metadata": {},
   "outputs": [],
   "source": [
    "def mul(a,b):\n",
    "    return a * b"
   ]
  },
  {
   "cell_type": "code",
   "execution_count": 22,
   "id": "571c992b-8483-4022-83fb-344d3b8a31b3",
   "metadata": {},
   "outputs": [
    {
     "data": {
      "text/plain": [
       "15"
      ]
     },
     "execution_count": 22,
     "metadata": {},
     "output_type": "execute_result"
    }
   ],
   "source": [
    "mul(3,5)"
   ]
  }
 ],
 "metadata": {
  "kernelspec": {
   "display_name": "Python [conda env:base] *",
   "language": "python",
   "name": "conda-base-py"
  },
  "language_info": {
   "codemirror_mode": {
    "name": "ipython",
    "version": 3
   },
   "file_extension": ".py",
   "mimetype": "text/x-python",
   "name": "python",
   "nbconvert_exporter": "python",
   "pygments_lexer": "ipython3",
   "version": "3.13.5"
  }
 },
 "nbformat": 4,
 "nbformat_minor": 5
}
