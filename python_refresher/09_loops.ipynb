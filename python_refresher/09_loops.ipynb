{
 "cells": [
  {
   "cell_type": "markdown",
   "id": "e44a4d8a-aeca-43d6-9eea-4b89b31b5fa8",
   "metadata": {},
   "source": [
    "# Loops In Python"
   ]
  },
  {
   "cell_type": "markdown",
   "id": "c4e94b6a-7a40-4c7a-acc8-c237df4992a9",
   "metadata": {},
   "source": [
    "Python has two main loops : for and while."
   ]
  },
  {
   "cell_type": "markdown",
   "id": "e3d1c8aa-00c9-4a35-9ec9-a04331345786",
   "metadata": {},
   "source": [
    "## 1. For Loop"
   ]
  },
  {
   "cell_type": "markdown",
   "id": "7f838c76-91ff-42ca-93e8-ff2177518ef4",
   "metadata": {},
   "source": [
    "Used to iterate over sequences lists,tuples and strings."
   ]
  },
  {
   "cell_type": "code",
   "execution_count": 2,
   "id": "3b25d8b8-4167-41ca-a0d0-9c49d981458d",
   "metadata": {},
   "outputs": [],
   "source": [
    "fruits = [\"apple\",\"banana\",\"cherry\"]"
   ]
  },
  {
   "cell_type": "code",
   "execution_count": 3,
   "id": "8e103432-61ee-4845-95aa-3fd9d7190f0c",
   "metadata": {},
   "outputs": [
    {
     "name": "stdout",
     "output_type": "stream",
     "text": [
      "apple\n",
      "banana\n",
      "cherry\n"
     ]
    }
   ],
   "source": [
    "for fruit in fruits:\n",
    "    print(fruit)"
   ]
  },
  {
   "cell_type": "markdown",
   "id": "f5596b5c-ebca-432f-8670-1495eb4cb297",
   "metadata": {},
   "source": [
    "### Using range()"
   ]
  },
  {
   "cell_type": "code",
   "execution_count": 4,
   "id": "30533741-83a7-4043-bfdb-720a43541f6d",
   "metadata": {},
   "outputs": [
    {
     "name": "stdout",
     "output_type": "stream",
     "text": [
      "0\n",
      "1\n",
      "2\n",
      "3\n",
      "4\n"
     ]
    }
   ],
   "source": [
    "for i in range(5):\n",
    "    print(i)"
   ]
  },
  {
   "cell_type": "markdown",
   "id": "ef82ce5e-b645-4e93-ad4a-15cc2f4526c2",
   "metadata": {},
   "source": [
    "## 2. While Loop"
   ]
  },
  {
   "cell_type": "code",
   "execution_count": 5,
   "id": "0c0175ea-c216-444f-8f42-f51ef83d83c9",
   "metadata": {},
   "outputs": [
    {
     "name": "stdout",
     "output_type": "stream",
     "text": [
      "0\n",
      "1\n",
      "2\n",
      "3\n",
      "4\n"
     ]
    }
   ],
   "source": [
    "count = 0\n",
    "while count < 5:\n",
    "    print(count)\n",
    "    count += 1"
   ]
  },
  {
   "cell_type": "code",
   "execution_count": 9,
   "id": "568ea2aa-c8c5-403b-8824-8652bbb090a8",
   "metadata": {},
   "outputs": [
    {
     "name": "stdout",
     "output_type": "stream",
     "text": [
      "0\n",
      "1\n",
      "2\n",
      "3\n",
      "4\n",
      "5\n",
      "6\n",
      "7\n",
      "8\n",
      "9\n"
     ]
    }
   ],
   "source": [
    "i = 0\n",
    "while i < 10:\n",
    "    print(i)\n",
    "    i += 1"
   ]
  },
  {
   "cell_type": "markdown",
   "id": "9f2958fb-5469-4fb5-a928-a37047a18275",
   "metadata": {},
   "source": [
    "## 3. Loop Control Statement"
   ]
  },
  {
   "cell_type": "markdown",
   "id": "9b5df5ad-1faf-4dc0-a969-0174cecc4f1a",
   "metadata": {},
   "source": [
    "- break -> Exit the loop.\n",
    "- continue -> Skip the value\n",
    "- pass -> Do nothing and exit loop."
   ]
  },
  {
   "cell_type": "code",
   "execution_count": 10,
   "id": "a5767dd7-53cd-4287-9f64-8f0045e06bbd",
   "metadata": {},
   "outputs": [],
   "source": [
    "l = [3,5,2,6,4,8]"
   ]
  },
  {
   "cell_type": "code",
   "execution_count": 11,
   "id": "8ca513f1-d655-4077-9cc6-3a9963975ab4",
   "metadata": {},
   "outputs": [
    {
     "name": "stdout",
     "output_type": "stream",
     "text": [
      "3\n",
      "5\n",
      "2\n",
      "6\n",
      "4\n",
      "8\n"
     ]
    }
   ],
   "source": [
    "for item in l:\n",
    "    print(item)"
   ]
  },
  {
   "cell_type": "code",
   "execution_count": 12,
   "id": "5a749583-bc32-43c2-9734-248f9ea08ceb",
   "metadata": {},
   "outputs": [
    {
     "name": "stdout",
     "output_type": "stream",
     "text": [
      "3\n",
      "5\n",
      "2\n"
     ]
    }
   ],
   "source": [
    "for item in l:\n",
    "    if item == 6:\n",
    "        break  # stop when value is True.\n",
    "    print(item)"
   ]
  },
  {
   "cell_type": "code",
   "execution_count": 13,
   "id": "139ffc91-a849-4ad5-a693-84327960449e",
   "metadata": {},
   "outputs": [
    {
     "name": "stdout",
     "output_type": "stream",
     "text": [
      "Hello Utsav\n"
     ]
    }
   ],
   "source": [
    "for item in l:\n",
    "    pass   # do nothing.\n",
    "\n",
    "print(\"Hello Utsav\")"
   ]
  },
  {
   "cell_type": "code",
   "execution_count": 14,
   "id": "90165938-dbff-48c6-b08b-b7b4ab56fd54",
   "metadata": {},
   "outputs": [],
   "source": [
    "fruits = [\"Apple\",\"Banana\",\"Chikoo\",\"Orange\",\"Mango\",\"Grapes\",\"Pineapple\"]"
   ]
  },
  {
   "cell_type": "code",
   "execution_count": 16,
   "id": "92a61d79-9fef-4e72-a44e-805be0afcdfb",
   "metadata": {},
   "outputs": [
    {
     "name": "stdout",
     "output_type": "stream",
     "text": [
      "Apple\n",
      "Banana\n",
      "Chikoo\n",
      "Orange\n",
      "Grapes\n",
      "Pineapple\n"
     ]
    }
   ],
   "source": [
    "for fruit in fruits:\n",
    "    if fruit == \"Mango\":\n",
    "        continue   # this is skip particular value when value is True.\n",
    "    print(fruit)"
   ]
  }
 ],
 "metadata": {
  "kernelspec": {
   "display_name": "Python [conda env:base] *",
   "language": "python",
   "name": "conda-base-py"
  },
  "language_info": {
   "codemirror_mode": {
    "name": "ipython",
    "version": 3
   },
   "file_extension": ".py",
   "mimetype": "text/x-python",
   "name": "python",
   "nbconvert_exporter": "python",
   "pygments_lexer": "ipython3",
   "version": "3.13.5"
  }
 },
 "nbformat": 4,
 "nbformat_minor": 5
}
