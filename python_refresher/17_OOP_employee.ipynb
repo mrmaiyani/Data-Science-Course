{
 "cells": [
  {
   "cell_type": "code",
   "execution_count": 16,
   "id": "e052186b-92b1-4da4-bf08-b2e52c006faf",
   "metadata": {},
   "outputs": [
    {
     "name": "stdout",
     "output_type": "stream",
     "text": [
      "my name is utsav. \n",
      "my company name is microsoft.\n",
      "my salary is $280000.\n",
      "your time is now started.\n",
      "my company name is microsoft\n"
     ]
    }
   ],
   "source": [
    "class employees:\n",
    "    company = \"microsoft\"\n",
    "\n",
    "    def __init__(self,name,salary):\n",
    "        self.name = name\n",
    "        self.salary = salary\n",
    "\n",
    "    def printdetails(self):\n",
    "        print(f\"my name is {self.name}. \\nmy company name is {self.company}.\\nmy salary is ${self.salary}.\")\n",
    "        \n",
    "    @staticmethod\n",
    "    def printtime(name):\n",
    "        print(\"your time is now started.\")\n",
    "\n",
    "    @classmethod\n",
    "    def printclassdetails(cls):\n",
    "        print(f\"my company name is {cls.company}\")\n",
    "\n",
    "e = employees(\"utsav\",280000)\n",
    "e.printdetails()\n",
    "e.printtime(\"utsav\")\n",
    "e.printclassdetails()"
   ]
  },
  {
   "cell_type": "code",
   "execution_count": null,
   "id": "79d030da-5fc4-46e1-b88b-19cca0a44dce",
   "metadata": {},
   "outputs": [],
   "source": []
  }
 ],
 "metadata": {
  "kernelspec": {
   "display_name": "Python [conda env:base] *",
   "language": "python",
   "name": "conda-base-py"
  },
  "language_info": {
   "codemirror_mode": {
    "name": "ipython",
    "version": 3
   },
   "file_extension": ".py",
   "mimetype": "text/x-python",
   "name": "python",
   "nbconvert_exporter": "python",
   "pygments_lexer": "ipython3",
   "version": "3.13.5"
  }
 },
 "nbformat": 4,
 "nbformat_minor": 5
}
