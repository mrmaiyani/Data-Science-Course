{
 "cells": [
  {
   "cell_type": "markdown",
   "id": "ede980fa-1126-47c9-86d6-c8d0c9be2295",
   "metadata": {},
   "source": [
    "# operators in python\n",
    "- Arithmetic Operators\n",
    "- Comparison Operators\n",
    "- Logical Operators\n",
    "- Bitwise Operators\n",
    "- Assignment Operators\n",
    "- Membership & Identity Operators"
   ]
  },
  {
   "cell_type": "markdown",
   "id": "5931eec9-b8ab-436c-8e39-04bc2fcc729c",
   "metadata": {},
   "source": [
    "### 1. Arithmetic Operators:"
   ]
  },
  {
   "cell_type": "code",
   "execution_count": 1,
   "id": "4da7a8e3-d182-4b06-8dcf-05c2fef82426",
   "metadata": {},
   "outputs": [],
   "source": [
    "a = 18\n",
    "b = 5"
   ]
  },
  {
   "cell_type": "code",
   "execution_count": 2,
   "id": "198831d1-7a40-4ae4-9b1d-15fb12c6e98a",
   "metadata": {},
   "outputs": [
    {
     "data": {
      "text/plain": [
       "23"
      ]
     },
     "execution_count": 2,
     "metadata": {},
     "output_type": "execute_result"
    }
   ],
   "source": [
    "a + b "
   ]
  },
  {
   "cell_type": "code",
   "execution_count": 3,
   "id": "ef48fa29-2a69-43bb-a2e1-21e709c6e470",
   "metadata": {},
   "outputs": [
    {
     "data": {
      "text/plain": [
       "13"
      ]
     },
     "execution_count": 3,
     "metadata": {},
     "output_type": "execute_result"
    }
   ],
   "source": [
    "a - b"
   ]
  },
  {
   "cell_type": "code",
   "execution_count": 4,
   "id": "7366f229-2b7d-47fe-b946-c79e3ae24a1c",
   "metadata": {},
   "outputs": [
    {
     "data": {
      "text/plain": [
       "90"
      ]
     },
     "execution_count": 4,
     "metadata": {},
     "output_type": "execute_result"
    }
   ],
   "source": [
    "a * b"
   ]
  },
  {
   "cell_type": "code",
   "execution_count": 5,
   "id": "f48bc450-a96d-4d03-99bb-70df656da28d",
   "metadata": {},
   "outputs": [
    {
     "data": {
      "text/plain": [
       "3.6"
      ]
     },
     "execution_count": 5,
     "metadata": {},
     "output_type": "execute_result"
    }
   ],
   "source": [
    "a / b"
   ]
  },
  {
   "cell_type": "code",
   "execution_count": 6,
   "id": "4212da1b-7811-43de-b06f-4fa3939eef3f",
   "metadata": {},
   "outputs": [
    {
     "data": {
      "text/plain": [
       "3"
      ]
     },
     "execution_count": 6,
     "metadata": {},
     "output_type": "execute_result"
    }
   ],
   "source": [
    "a // b"
   ]
  },
  {
   "cell_type": "code",
   "execution_count": 7,
   "id": "39b6f1ab-9c29-45aa-908d-c5e5b8336b9f",
   "metadata": {},
   "outputs": [
    {
     "data": {
      "text/plain": [
       "3"
      ]
     },
     "execution_count": 7,
     "metadata": {},
     "output_type": "execute_result"
    }
   ],
   "source": [
    "a % b"
   ]
  },
  {
   "cell_type": "code",
   "execution_count": 8,
   "id": "2523d6cd-f183-47d1-9deb-267acc77a34a",
   "metadata": {},
   "outputs": [
    {
     "data": {
      "text/plain": [
       "1889568"
      ]
     },
     "execution_count": 8,
     "metadata": {},
     "output_type": "execute_result"
    }
   ],
   "source": [
    "a ** b"
   ]
  },
  {
   "cell_type": "markdown",
   "id": "c158703c-2872-4f3c-98de-30f25b18bbfb",
   "metadata": {},
   "source": [
    "### 2. Comparison Operator:"
   ]
  },
  {
   "cell_type": "code",
   "execution_count": 9,
   "id": "843db32f-fe5e-483e-b530-f7e6057001b2",
   "metadata": {},
   "outputs": [],
   "source": [
    "a = 15\n",
    "b = 11\n",
    "c = 15"
   ]
  },
  {
   "cell_type": "code",
   "execution_count": 10,
   "id": "7b522da8-d3f5-4904-bbaf-056a7b6ed9c5",
   "metadata": {},
   "outputs": [
    {
     "data": {
      "text/plain": [
       "False"
      ]
     },
     "execution_count": 10,
     "metadata": {},
     "output_type": "execute_result"
    }
   ],
   "source": [
    "a == b"
   ]
  },
  {
   "cell_type": "code",
   "execution_count": 11,
   "id": "1a41d3a9-c1ad-4a62-a7b7-b93f540d31e1",
   "metadata": {},
   "outputs": [
    {
     "data": {
      "text/plain": [
       "True"
      ]
     },
     "execution_count": 11,
     "metadata": {},
     "output_type": "execute_result"
    }
   ],
   "source": [
    "a == c"
   ]
  },
  {
   "cell_type": "code",
   "execution_count": 12,
   "id": "7d9044bd-d54d-49a5-ad7e-dae8c671c6c8",
   "metadata": {},
   "outputs": [
    {
     "data": {
      "text/plain": [
       "True"
      ]
     },
     "execution_count": 12,
     "metadata": {},
     "output_type": "execute_result"
    }
   ],
   "source": [
    "a != b"
   ]
  },
  {
   "cell_type": "code",
   "execution_count": 13,
   "id": "6d7ae42a-33fb-438f-8e74-b1910726e4f9",
   "metadata": {},
   "outputs": [
    {
     "data": {
      "text/plain": [
       "True"
      ]
     },
     "execution_count": 13,
     "metadata": {},
     "output_type": "execute_result"
    }
   ],
   "source": [
    "a > b"
   ]
  },
  {
   "cell_type": "code",
   "execution_count": 14,
   "id": "1bf9ae4f-b6c3-4639-b2e4-535f15cec5b9",
   "metadata": {},
   "outputs": [
    {
     "data": {
      "text/plain": [
       "False"
      ]
     },
     "execution_count": 14,
     "metadata": {},
     "output_type": "execute_result"
    }
   ],
   "source": [
    "a < b"
   ]
  },
  {
   "cell_type": "code",
   "execution_count": 15,
   "id": "0dddf355-379b-4cdb-9d7a-69d15e7d824d",
   "metadata": {},
   "outputs": [
    {
     "data": {
      "text/plain": [
       "False"
      ]
     },
     "execution_count": 15,
     "metadata": {},
     "output_type": "execute_result"
    }
   ],
   "source": [
    "a < c"
   ]
  },
  {
   "cell_type": "code",
   "execution_count": 16,
   "id": "d3e3a3a4-dc9b-454b-ab89-74877551a253",
   "metadata": {},
   "outputs": [
    {
     "data": {
      "text/plain": [
       "True"
      ]
     },
     "execution_count": 16,
     "metadata": {},
     "output_type": "execute_result"
    }
   ],
   "source": [
    "a <= c"
   ]
  },
  {
   "cell_type": "code",
   "execution_count": 17,
   "id": "fc6103a9-0671-4637-aeb3-a134eb2472f8",
   "metadata": {},
   "outputs": [
    {
     "data": {
      "text/plain": [
       "True"
      ]
     },
     "execution_count": 17,
     "metadata": {},
     "output_type": "execute_result"
    }
   ],
   "source": [
    "a >= c"
   ]
  },
  {
   "cell_type": "markdown",
   "id": "d8418338-6356-46e2-8045-68ca09c99236",
   "metadata": {},
   "source": [
    "### 3. Logical Operators:"
   ]
  },
  {
   "cell_type": "code",
   "execution_count": 18,
   "id": "b2ed61f7-6696-45a7-9cfa-d115a486e1ae",
   "metadata": {},
   "outputs": [],
   "source": [
    "bool1 = True\n",
    "bool2 = False"
   ]
  },
  {
   "cell_type": "code",
   "execution_count": 19,
   "id": "aa85db83-4f72-4a09-ae86-ba48c567884d",
   "metadata": {},
   "outputs": [
    {
     "data": {
      "text/plain": [
       "False"
      ]
     },
     "execution_count": 19,
     "metadata": {},
     "output_type": "execute_result"
    }
   ],
   "source": [
    "bool1 and bool2"
   ]
  },
  {
   "cell_type": "code",
   "execution_count": 20,
   "id": "0c857f6e-ea55-46fb-8b3f-bdcf05880fab",
   "metadata": {},
   "outputs": [
    {
     "data": {
      "text/plain": [
       "True"
      ]
     },
     "execution_count": 20,
     "metadata": {},
     "output_type": "execute_result"
    }
   ],
   "source": [
    "bool1 or bool2"
   ]
  },
  {
   "cell_type": "code",
   "execution_count": 21,
   "id": "a600ce81-cbd9-4607-8b8a-93528c5726e3",
   "metadata": {},
   "outputs": [
    {
     "data": {
      "text/plain": [
       "False"
      ]
     },
     "execution_count": 21,
     "metadata": {},
     "output_type": "execute_result"
    }
   ],
   "source": [
    "not bool1 "
   ]
  },
  {
   "cell_type": "code",
   "execution_count": 22,
   "id": "1ddcc3da-963f-40f6-af15-5bc79a1c5f0f",
   "metadata": {},
   "outputs": [
    {
     "data": {
      "text/plain": [
       "True"
      ]
     },
     "execution_count": 22,
     "metadata": {},
     "output_type": "execute_result"
    }
   ],
   "source": [
    "not bool2"
   ]
  },
  {
   "cell_type": "markdown",
   "id": "0a6f87f8-ac7e-4045-9b17-1b20ff057fad",
   "metadata": {},
   "source": [
    "### 4. Bitwise Operators:"
   ]
  },
  {
   "cell_type": "code",
   "execution_count": 23,
   "id": "d02e14a3-422c-4abf-ab5e-2eb778b9e7fe",
   "metadata": {},
   "outputs": [],
   "source": [
    "a = 5\n",
    "b = 3"
   ]
  },
  {
   "cell_type": "code",
   "execution_count": 24,
   "id": "e6f2070c-b925-4d3a-95a4-4ffc84fe761d",
   "metadata": {},
   "outputs": [
    {
     "data": {
      "text/plain": [
       "1"
      ]
     },
     "execution_count": 24,
     "metadata": {},
     "output_type": "execute_result"
    }
   ],
   "source": [
    "a & b"
   ]
  },
  {
   "cell_type": "code",
   "execution_count": 25,
   "id": "22cbbef6-ef46-40ae-a196-6ab7ce1652fc",
   "metadata": {},
   "outputs": [
    {
     "data": {
      "text/plain": [
       "7"
      ]
     },
     "execution_count": 25,
     "metadata": {},
     "output_type": "execute_result"
    }
   ],
   "source": [
    "a | b"
   ]
  },
  {
   "cell_type": "markdown",
   "id": "999bae24-ddd3-40ec-8bd9-1e50a1146c5f",
   "metadata": {},
   "source": [
    "### 5. Assignment Operators:"
   ]
  },
  {
   "cell_type": "code",
   "execution_count": 26,
   "id": "c9b1ec32-26ec-4d82-8c6f-2325ccd83aea",
   "metadata": {},
   "outputs": [],
   "source": [
    "a = 5 # a = 5"
   ]
  },
  {
   "cell_type": "code",
   "execution_count": 27,
   "id": "d003a8a2-76f6-43f5-b33f-01062091a089",
   "metadata": {},
   "outputs": [],
   "source": [
    "a += 5 # a = 10"
   ]
  },
  {
   "cell_type": "code",
   "execution_count": 28,
   "id": "a054119e-73f0-4839-837a-fb76ddc44388",
   "metadata": {},
   "outputs": [],
   "source": [
    "a -= 5 # a = 0"
   ]
  },
  {
   "cell_type": "code",
   "execution_count": 29,
   "id": "01ee0b78-b561-4461-ba09-ba49b9e35363",
   "metadata": {},
   "outputs": [],
   "source": [
    "a *= 5 # a = 25"
   ]
  },
  {
   "cell_type": "code",
   "execution_count": 30,
   "id": "b7eeac10-60a6-4b9b-a73b-a8bcf9fe3a33",
   "metadata": {},
   "outputs": [],
   "source": [
    "a /= 5 # a = 1"
   ]
  },
  {
   "cell_type": "code",
   "execution_count": 31,
   "id": "750169bd-b704-442e-b77f-2d400fb10717",
   "metadata": {},
   "outputs": [],
   "source": [
    "a //= 5 # a = 1"
   ]
  },
  {
   "cell_type": "code",
   "execution_count": 32,
   "id": "22a8fa0c-43b9-43b8-a818-0e3d147458f1",
   "metadata": {},
   "outputs": [],
   "source": [
    "a %= 5 # a = 0"
   ]
  },
  {
   "cell_type": "code",
   "execution_count": 33,
   "id": "24043ac3-da28-43a9-adea-9ebfd8a27e4a",
   "metadata": {},
   "outputs": [],
   "source": [
    "a **= 5 # a = 3125"
   ]
  },
  {
   "cell_type": "markdown",
   "id": "09f21a3c-d714-4b02-a26b-b8b5fb70c9cd",
   "metadata": {},
   "source": [
    "### 6. Membership & Identity Operators:"
   ]
  },
  {
   "cell_type": "code",
   "execution_count": 34,
   "id": "3c7ea84b-403e-4815-82e7-3c46465b463f",
   "metadata": {},
   "outputs": [],
   "source": [
    "list = [1,2,3,4,5]\n",
    "x = 2\n",
    "a = 5\n",
    "b = 5"
   ]
  },
  {
   "cell_type": "code",
   "execution_count": 35,
   "id": "0f2fb9c9-a496-4597-b00c-60e635837976",
   "metadata": {},
   "outputs": [
    {
     "data": {
      "text/plain": [
       "True"
      ]
     },
     "execution_count": 35,
     "metadata": {},
     "output_type": "execute_result"
    }
   ],
   "source": [
    "x in list"
   ]
  },
  {
   "cell_type": "code",
   "execution_count": 36,
   "id": "0d2430bd-ec3e-4483-90df-7dd8f291c520",
   "metadata": {},
   "outputs": [
    {
     "data": {
      "text/plain": [
       "False"
      ]
     },
     "execution_count": 36,
     "metadata": {},
     "output_type": "execute_result"
    }
   ],
   "source": [
    "x not in list"
   ]
  },
  {
   "cell_type": "code",
   "execution_count": 37,
   "id": "eaefeba0-4ec4-422e-b449-a0f5da66d6b2",
   "metadata": {},
   "outputs": [
    {
     "data": {
      "text/plain": [
       "True"
      ]
     },
     "execution_count": 37,
     "metadata": {},
     "output_type": "execute_result"
    }
   ],
   "source": [
    "a is b"
   ]
  },
  {
   "cell_type": "code",
   "execution_count": 38,
   "id": "c312ccbe-f8d7-4d3f-9dbf-eebc3980d973",
   "metadata": {},
   "outputs": [
    {
     "data": {
      "text/plain": [
       "False"
      ]
     },
     "execution_count": 38,
     "metadata": {},
     "output_type": "execute_result"
    }
   ],
   "source": [
    "a is not b"
   ]
  }
 ],
 "metadata": {
  "kernelspec": {
   "display_name": "Python [conda env:base] *",
   "language": "python",
   "name": "conda-base-py"
  },
  "language_info": {
   "codemirror_mode": {
    "name": "ipython",
    "version": 3
   },
   "file_extension": ".py",
   "mimetype": "text/x-python",
   "name": "python",
   "nbconvert_exporter": "python",
   "pygments_lexer": "ipython3",
   "version": "3.13.5"
  }
 },
 "nbformat": 4,
 "nbformat_minor": 5
}
