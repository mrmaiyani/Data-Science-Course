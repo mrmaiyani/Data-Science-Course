{
 "cells": [
  {
   "cell_type": "markdown",
   "id": "38f23288-c575-4471-9fd5-b2f849345173",
   "metadata": {},
   "source": [
    "## Accessing Tuple Elements"
   ]
  },
  {
   "cell_type": "code",
   "execution_count": 9,
   "id": "44e65888-8914-486d-a41c-5794baeff42e",
   "metadata": {},
   "outputs": [],
   "source": [
    "tuple1 = (10,20,30,40)"
   ]
  },
  {
   "cell_type": "code",
   "execution_count": 11,
   "id": "daac9b7b-e918-40c4-a8a6-b045dd0018ba",
   "metadata": {},
   "outputs": [
    {
     "data": {
      "text/plain": [
       "20"
      ]
     },
     "execution_count": 11,
     "metadata": {},
     "output_type": "execute_result"
    }
   ],
   "source": [
    "tuple1[1] #indexing"
   ]
  },
  {
   "cell_type": "code",
   "execution_count": 12,
   "id": "945623e8-021d-45d9-8ace-7cd1115dbbfb",
   "metadata": {},
   "outputs": [
    {
     "data": {
      "text/plain": [
       "(20, 30, 40)"
      ]
     },
     "execution_count": 12,
     "metadata": {},
     "output_type": "execute_result"
    }
   ],
   "source": [
    "tuple1[1:4] #slicing"
   ]
  },
  {
   "cell_type": "markdown",
   "id": "f0370f36-c4fa-44ae-b0aa-8e2e18c7b924",
   "metadata": {},
   "source": [
    "## Tuple packing and unpacking"
   ]
  },
  {
   "cell_type": "code",
   "execution_count": 13,
   "id": "e51bf2e9-c5d6-4822-a1be-9aa636323d6b",
   "metadata": {},
   "outputs": [],
   "source": [
    "person = (\"Utsav\",18,\"Data science\") #packing"
   ]
  },
  {
   "cell_type": "code",
   "execution_count": 14,
   "id": "7b9bee2f-bcef-4170-9232-86b993473239",
   "metadata": {},
   "outputs": [],
   "source": [
    "name,age,course = person #unpacking"
   ]
  },
  {
   "cell_type": "code",
   "execution_count": 15,
   "id": "99805b9a-e9c6-49ba-83a4-42153cf6ea2e",
   "metadata": {},
   "outputs": [
    {
     "name": "stdout",
     "output_type": "stream",
     "text": [
      "Utsav\n"
     ]
    }
   ],
   "source": [
    "print(name)"
   ]
  },
  {
   "cell_type": "code",
   "execution_count": 16,
   "id": "508299a1-364d-4875-9a30-c2486ade7a0d",
   "metadata": {},
   "outputs": [
    {
     "data": {
      "text/plain": [
       "18"
      ]
     },
     "execution_count": 16,
     "metadata": {},
     "output_type": "execute_result"
    }
   ],
   "source": [
    "age"
   ]
  },
  {
   "cell_type": "code",
   "execution_count": 17,
   "id": "36347f35-5386-44a9-98c5-eaa15c1e380f",
   "metadata": {},
   "outputs": [
    {
     "data": {
      "text/plain": [
       "'Data science'"
      ]
     },
     "execution_count": 17,
     "metadata": {},
     "output_type": "execute_result"
    }
   ],
   "source": [
    "course"
   ]
  },
  {
   "cell_type": "markdown",
   "id": "31249776-3f6a-4b83-a351-e599530842b2",
   "metadata": {},
   "source": [
    "## Tuple Methods"
   ]
  },
  {
   "cell_type": "code",
   "execution_count": 18,
   "id": "645fa842-66dc-4b72-9d9a-718ac56dfbfd",
   "metadata": {},
   "outputs": [],
   "source": [
    "tuple2 = (40,40,51,64,84)"
   ]
  },
  {
   "cell_type": "code",
   "execution_count": 19,
   "id": "590afb8a-ba42-40c9-ad08-37c2dfe30f54",
   "metadata": {},
   "outputs": [
    {
     "data": {
      "text/plain": [
       "5"
      ]
     },
     "execution_count": 19,
     "metadata": {},
     "output_type": "execute_result"
    }
   ],
   "source": [
    "len(tuple2)"
   ]
  },
  {
   "cell_type": "code",
   "execution_count": 20,
   "id": "70a4bdae-9deb-4a57-8062-0c261d2a5200",
   "metadata": {},
   "outputs": [
    {
     "data": {
      "text/plain": [
       "2"
      ]
     },
     "execution_count": 20,
     "metadata": {},
     "output_type": "execute_result"
    }
   ],
   "source": [
    "tuple2.count(40)"
   ]
  },
  {
   "cell_type": "code",
   "execution_count": 21,
   "id": "27e8b05c-7560-46fb-a0ab-05b338efe7ac",
   "metadata": {},
   "outputs": [
    {
     "data": {
      "text/plain": [
       "3"
      ]
     },
     "execution_count": 21,
     "metadata": {},
     "output_type": "execute_result"
    }
   ],
   "source": [
    "tuple2.index(64)"
   ]
  },
  {
   "cell_type": "markdown",
   "id": "bb87ebf5-e62e-4ae4-bd75-b4f0ac56be3c",
   "metadata": {},
   "source": [
    "## Tuple Characteristic\n",
    "#### immutable\n",
    "#### Faster than list\n",
    "#### can be used as dictionary keys"
   ]
  }
 ],
 "metadata": {
  "kernelspec": {
   "display_name": "Python [conda env:base] *",
   "language": "python",
   "name": "conda-base-py"
  },
  "language_info": {
   "codemirror_mode": {
    "name": "ipython",
    "version": 3
   },
   "file_extension": ".py",
   "mimetype": "text/x-python",
   "name": "python",
   "nbconvert_exporter": "python",
   "pygments_lexer": "ipython3",
   "version": "3.13.5"
  }
 },
 "nbformat": 4,
 "nbformat_minor": 5
}
