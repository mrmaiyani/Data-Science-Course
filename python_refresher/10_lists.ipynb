{
 "cells": [
  {
   "cell_type": "markdown",
   "id": "f00c4f07-106c-4bb5-9c04-75d2c3e971ca",
   "metadata": {},
   "source": [
    "# Python Lists and List Methods"
   ]
  },
  {
   "cell_type": "code",
   "execution_count": 1,
   "id": "dd6508c3-e7dc-4d29-8ac4-f2f3ab28956f",
   "metadata": {},
   "outputs": [],
   "source": [
    "list = [12,3,6,23,31,11,23,25,76,54]"
   ]
  },
  {
   "cell_type": "code",
   "execution_count": 2,
   "id": "0fec7bcb-ae6e-4698-a68c-d4ca18182776",
   "metadata": {},
   "outputs": [
    {
     "data": {
      "text/plain": [
       "[12, 3, 6, 23, 31, 11, 23, 25, 76, 54]"
      ]
     },
     "execution_count": 2,
     "metadata": {},
     "output_type": "execute_result"
    }
   ],
   "source": [
    "list"
   ]
  },
  {
   "cell_type": "code",
   "execution_count": 3,
   "id": "fb263674-fb92-411f-831e-8a7c02179445",
   "metadata": {},
   "outputs": [],
   "source": [
    "list.append(9)"
   ]
  },
  {
   "cell_type": "code",
   "execution_count": 4,
   "id": "e0c11b6d-3edd-452a-8473-de7c196c5619",
   "metadata": {},
   "outputs": [
    {
     "data": {
      "text/plain": [
       "[12, 3, 6, 23, 31, 11, 23, 25, 76, 54, 9]"
      ]
     },
     "execution_count": 4,
     "metadata": {},
     "output_type": "execute_result"
    }
   ],
   "source": [
    "list"
   ]
  },
  {
   "cell_type": "code",
   "execution_count": 5,
   "id": "2cee0ced-7455-4b94-8f92-c1667319a6db",
   "metadata": {},
   "outputs": [],
   "source": [
    "list2 = [7,8]"
   ]
  },
  {
   "cell_type": "code",
   "execution_count": 6,
   "id": "36974bfe-3d56-4304-a1c9-a494f14a7ddf",
   "metadata": {},
   "outputs": [],
   "source": [
    "list.extend(list2)"
   ]
  },
  {
   "cell_type": "code",
   "execution_count": 7,
   "id": "59d71f5e-585a-4ea5-821a-b32ba28c4364",
   "metadata": {},
   "outputs": [
    {
     "data": {
      "text/plain": [
       "[12, 3, 6, 23, 31, 11, 23, 25, 76, 54, 9, 7, 8]"
      ]
     },
     "execution_count": 7,
     "metadata": {},
     "output_type": "execute_result"
    }
   ],
   "source": [
    "list"
   ]
  },
  {
   "cell_type": "code",
   "execution_count": 8,
   "id": "489af4b5-adba-4f8c-8c6e-d6874b7a1980",
   "metadata": {},
   "outputs": [],
   "source": [
    "list.insert(11,1)"
   ]
  },
  {
   "cell_type": "code",
   "execution_count": 9,
   "id": "b72c1fd7-aaa7-4bee-bd67-ef105f26b7c6",
   "metadata": {},
   "outputs": [
    {
     "data": {
      "text/plain": [
       "[12, 3, 6, 23, 31, 11, 23, 25, 76, 54, 9, 1, 7, 8]"
      ]
     },
     "execution_count": 9,
     "metadata": {},
     "output_type": "execute_result"
    }
   ],
   "source": [
    "list"
   ]
  },
  {
   "cell_type": "code",
   "execution_count": 10,
   "id": "910eeda9-7027-4661-bd36-aee363d7a1b9",
   "metadata": {},
   "outputs": [],
   "source": [
    "list.remove(9)"
   ]
  },
  {
   "cell_type": "code",
   "execution_count": 11,
   "id": "a4cf16e2-4799-4e84-b435-72fc5fe82694",
   "metadata": {},
   "outputs": [
    {
     "data": {
      "text/plain": [
       "[12, 3, 6, 23, 31, 11, 23, 25, 76, 54, 1, 7, 8]"
      ]
     },
     "execution_count": 11,
     "metadata": {},
     "output_type": "execute_result"
    }
   ],
   "source": [
    "list"
   ]
  },
  {
   "cell_type": "code",
   "execution_count": 12,
   "id": "a231a5e4-456f-4699-8a5e-af767dca7334",
   "metadata": {},
   "outputs": [
    {
     "data": {
      "text/plain": [
       "1"
      ]
     },
     "execution_count": 12,
     "metadata": {},
     "output_type": "execute_result"
    }
   ],
   "source": [
    "list.pop(10)"
   ]
  },
  {
   "cell_type": "code",
   "execution_count": 13,
   "id": "4d1c8f33-cc57-42c1-97ae-b7e487502ab0",
   "metadata": {},
   "outputs": [
    {
     "data": {
      "text/plain": [
       "[12, 3, 6, 23, 31, 11, 23, 25, 76, 54, 7, 8]"
      ]
     },
     "execution_count": 13,
     "metadata": {},
     "output_type": "execute_result"
    }
   ],
   "source": [
    "list"
   ]
  },
  {
   "cell_type": "code",
   "execution_count": 14,
   "id": "b0acc635-31ca-4299-ad9c-fb8858404efe",
   "metadata": {},
   "outputs": [
    {
     "data": {
      "text/plain": [
       "3"
      ]
     },
     "execution_count": 14,
     "metadata": {},
     "output_type": "execute_result"
    }
   ],
   "source": [
    "list.index(23)"
   ]
  },
  {
   "cell_type": "code",
   "execution_count": 15,
   "id": "9b138546-85c5-4e9c-b7f3-17bd7e7bd010",
   "metadata": {},
   "outputs": [
    {
     "data": {
      "text/plain": [
       "2"
      ]
     },
     "execution_count": 15,
     "metadata": {},
     "output_type": "execute_result"
    }
   ],
   "source": [
    "list.count(23)"
   ]
  },
  {
   "cell_type": "code",
   "execution_count": 16,
   "id": "0d185d37-01d6-447e-ab45-aa387ea6936d",
   "metadata": {},
   "outputs": [],
   "source": [
    "list.sort()"
   ]
  },
  {
   "cell_type": "code",
   "execution_count": 17,
   "id": "c828a9c9-34bc-4167-bc97-8f6db445f5eb",
   "metadata": {},
   "outputs": [
    {
     "data": {
      "text/plain": [
       "[3, 6, 7, 8, 11, 12, 23, 23, 25, 31, 54, 76]"
      ]
     },
     "execution_count": 17,
     "metadata": {},
     "output_type": "execute_result"
    }
   ],
   "source": [
    "list"
   ]
  },
  {
   "cell_type": "code",
   "execution_count": 18,
   "id": "58432da8-8967-45c3-a82b-58fbd9357494",
   "metadata": {},
   "outputs": [],
   "source": [
    "list.reverse()"
   ]
  },
  {
   "cell_type": "code",
   "execution_count": 19,
   "id": "9a81b2da-ad19-4a81-8748-9f0468c841aa",
   "metadata": {},
   "outputs": [
    {
     "data": {
      "text/plain": [
       "[76, 54, 31, 25, 23, 23, 12, 11, 8, 7, 6, 3]"
      ]
     },
     "execution_count": 19,
     "metadata": {},
     "output_type": "execute_result"
    }
   ],
   "source": [
    "list"
   ]
  },
  {
   "cell_type": "code",
   "execution_count": 20,
   "id": "1e815022-eed8-4143-8bbd-11a7ce24cd20",
   "metadata": {},
   "outputs": [],
   "source": [
    "new_list = list.copy()"
   ]
  },
  {
   "cell_type": "code",
   "execution_count": 21,
   "id": "b33b33f8-63cd-4fa8-bd85-140f004d3de8",
   "metadata": {},
   "outputs": [
    {
     "data": {
      "text/plain": [
       "[76, 54, 31, 25, 23, 23, 12, 11, 8, 7, 6, 3]"
      ]
     },
     "execution_count": 21,
     "metadata": {},
     "output_type": "execute_result"
    }
   ],
   "source": [
    "list"
   ]
  },
  {
   "cell_type": "code",
   "execution_count": 22,
   "id": "7541acdf-2ca7-407f-b0b0-2e49d93c8fe2",
   "metadata": {},
   "outputs": [
    {
     "data": {
      "text/plain": [
       "[76, 54, 31, 25, 23, 23, 12, 11, 8, 7, 6, 3]"
      ]
     },
     "execution_count": 22,
     "metadata": {},
     "output_type": "execute_result"
    }
   ],
   "source": [
    "new_list"
   ]
  },
  {
   "cell_type": "code",
   "execution_count": 23,
   "id": "de2d9621-8c25-426c-9790-1399729a2efc",
   "metadata": {},
   "outputs": [],
   "source": [
    "list.clear()"
   ]
  },
  {
   "cell_type": "code",
   "execution_count": 24,
   "id": "843363bd-f1dd-4d9e-9d26-1ea8dae88d22",
   "metadata": {},
   "outputs": [
    {
     "data": {
      "text/plain": [
       "[]"
      ]
     },
     "execution_count": 24,
     "metadata": {},
     "output_type": "execute_result"
    }
   ],
   "source": [
    "list"
   ]
  },
  {
   "cell_type": "code",
   "execution_count": null,
   "id": "15a06d83-e9eb-49d9-b8fb-f7ae6a66a4d1",
   "metadata": {},
   "outputs": [],
   "source": []
  }
 ],
 "metadata": {
  "kernelspec": {
   "display_name": "Python [conda env:base] *",
   "language": "python",
   "name": "conda-base-py"
  },
  "language_info": {
   "codemirror_mode": {
    "name": "ipython",
    "version": 3
   },
   "file_extension": ".py",
   "mimetype": "text/x-python",
   "name": "python",
   "nbconvert_exporter": "python",
   "pygments_lexer": "ipython3",
   "version": "3.13.5"
  }
 },
 "nbformat": 4,
 "nbformat_minor": 5
}
