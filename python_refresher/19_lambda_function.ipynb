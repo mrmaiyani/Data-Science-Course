{
 "cells": [
  {
   "cell_type": "markdown",
   "id": "e3938bdd-ae42-49a2-b7ac-255d8d32d3de",
   "metadata": {},
   "source": [
    "### 1. Simple Lambda Function"
   ]
  },
  {
   "cell_type": "code",
   "execution_count": 2,
   "id": "acaeaf58-a2b1-42ea-874d-092050a03bd1",
   "metadata": {},
   "outputs": [
    {
     "name": "stdout",
     "output_type": "stream",
     "text": [
      "25\n"
     ]
    }
   ],
   "source": [
    "square = lambda x: x ** 2\n",
    "print(square(5))"
   ]
  },
  {
   "cell_type": "markdown",
   "id": "bea06556-3a05-4983-8dd1-d2f75a6c728f",
   "metadata": {},
   "source": [
    "### 2. Using Lambda Functions With map(), filter(), and reduce()"
   ]
  },
  {
   "cell_type": "markdown",
   "id": "6812d4cd-9c5f-4ff3-9429-db94e4fc9c4a",
   "metadata": {},
   "source": [
    "#### 2.1 Using map() with Lambda"
   ]
  },
  {
   "cell_type": "code",
   "execution_count": 3,
   "id": "e827e8c1-71f4-4e5a-bd23-514d863a8dce",
   "metadata": {},
   "outputs": [
    {
     "name": "stdout",
     "output_type": "stream",
     "text": [
      "[1, 4, 9, 16, 25, 36, 49]\n"
     ]
    }
   ],
   "source": [
    "numbers = [1,2,3,4,5,6,7]\n",
    "squared = list(map(lambda x: x ** 2, numbers))\n",
    "print(squared)"
   ]
  },
  {
   "cell_type": "markdown",
   "id": "ed443302-c0ad-4e18-aec3-d09c5941fd32",
   "metadata": {},
   "source": [
    "#### 2.2 Using Filter() with Lambda"
   ]
  },
  {
   "cell_type": "code",
   "execution_count": 1,
   "id": "2bd1252f-12c2-42a7-9322-abf746edc924",
   "metadata": {},
   "outputs": [
    {
     "name": "stdout",
     "output_type": "stream",
     "text": [
      "[2, 4, 6, 8]\n"
     ]
    }
   ],
   "source": [
    "numbers = [1,2,3,4,5,6,7,8,9]\n",
    "even = list(filter(lambda x : x % 2 == 0,numbers))\n",
    "print(even)"
   ]
  },
  {
   "cell_type": "markdown",
   "id": "32304082-e2d8-457a-a547-6b107e90b2a5",
   "metadata": {},
   "source": [
    "#### 2.3 Using reduce() with Lambda"
   ]
  },
  {
   "cell_type": "code",
   "execution_count": 3,
   "id": "7a596238-945c-4afb-b74e-e6f38c768a0d",
   "metadata": {},
   "outputs": [
    {
     "name": "stdout",
     "output_type": "stream",
     "text": [
      "24\n"
     ]
    }
   ],
   "source": [
    "from functools import reduce\n",
    "numbers = [1,2,3,4]\n",
    "product = reduce(lambda x, y: x * y,numbers)\n",
    "print(product)"
   ]
  },
  {
   "cell_type": "markdown",
   "id": "3b3d1c58-ecf2-4d73-b17a-11d6dd7e70f6",
   "metadata": {},
   "source": [
    "### 3. Lambda with multiple arguments"
   ]
  },
  {
   "cell_type": "markdown",
   "id": "35988f56-314a-4e9e-a3ea-e05ac64c3cb1",
   "metadata": {},
   "source": [
    "#### Example : Adding Two Numbers"
   ]
  },
  {
   "cell_type": "code",
   "execution_count": 5,
   "id": "a3d5a2b4-135f-42a1-b093-1dfdbcb353f8",
   "metadata": {},
   "outputs": [
    {
     "name": "stdout",
     "output_type": "stream",
     "text": [
      "57\n"
     ]
    }
   ],
   "source": [
    "add = lambda x, y: x + y\n",
    "print(add(12,45))"
   ]
  },
  {
   "cell_type": "markdown",
   "id": "951fc563-1611-416b-9b46-7c0c346cf2db",
   "metadata": {},
   "source": [
    "#### Example: Finding the Maximum of two numbers"
   ]
  },
  {
   "cell_type": "code",
   "execution_count": 7,
   "id": "f8550d98-e9ed-4c9e-a062-2b7a1d38b7b6",
   "metadata": {},
   "outputs": [
    {
     "name": "stdout",
     "output_type": "stream",
     "text": [
      "75\n"
     ]
    }
   ],
   "source": [
    "maximum =  lambda x, y: x if x > y else y\n",
    "print(maximum(75,48))"
   ]
  },
  {
   "cell_type": "markdown",
   "id": "35abc82a-2d7e-40d7-b22a-580b32571f40",
   "metadata": {},
   "source": [
    "### 4. Lambda in Sorting Functiion"
   ]
  },
  {
   "cell_type": "markdown",
   "id": "2b7c6d51-4a70-4b49-9400-5312afa9f811",
   "metadata": {},
   "source": [
    "#### Sorting a List of Tuples"
   ]
  },
  {
   "cell_type": "code",
   "execution_count": 10,
   "id": "a6f31113-f921-416c-b4a7-700cf687af49",
   "metadata": {},
   "outputs": [
    {
     "name": "stdout",
     "output_type": "stream",
     "text": [
      "[('Utsav', 95), ('Vrunda', 98), ('Radha', 99)]\n"
     ]
    }
   ],
   "source": [
    "students = [(\"Utsav\",95),(\"Radha\",99),(\"Vrunda\",98)]\n",
    "students.sort(key=lambda student: student[1])  # sort by score\n",
    "print(students)"
   ]
  }
 ],
 "metadata": {
  "kernelspec": {
   "display_name": "Python [conda env:base] *",
   "language": "python",
   "name": "conda-base-py"
  },
  "language_info": {
   "codemirror_mode": {
    "name": "ipython",
    "version": 3
   },
   "file_extension": ".py",
   "mimetype": "text/x-python",
   "name": "python",
   "nbconvert_exporter": "python",
   "pygments_lexer": "ipython3",
   "version": "3.13.5"
  }
 },
 "nbformat": 4,
 "nbformat_minor": 5
}
