{
 "cells": [
  {
   "cell_type": "markdown",
   "id": "f1fd0ebc-f81e-4934-8911-d073d5682296",
   "metadata": {},
   "source": [
    "# Match-Case In Python"
   ]
  },
  {
   "cell_type": "code",
   "execution_count": 1,
   "id": "648722cc-386b-4693-909b-1895e89afb07",
   "metadata": {},
   "outputs": [],
   "source": [
    "def https_status(code):\n",
    "    match code:\n",
    "        case 200:\n",
    "            return \"OK\"\n",
    "        case 400:\n",
    "            return \"Bad Request\"\n",
    "        case 404:\n",
    "            return \"Not Found\"\n",
    "        case 500:\n",
    "            return \"Internal Server Error\"\n",
    "        case _:\n",
    "            return \"Unknown Status\""
   ]
  },
  {
   "cell_type": "code",
   "execution_count": 2,
   "id": "8203f757-0e65-490f-a7a7-500121797116",
   "metadata": {},
   "outputs": [
    {
     "data": {
      "text/plain": [
       "'OK'"
      ]
     },
     "execution_count": 2,
     "metadata": {},
     "output_type": "execute_result"
    }
   ],
   "source": [
    "https_status(200)"
   ]
  },
  {
   "cell_type": "code",
   "execution_count": 3,
   "id": "0302bf3b-aa7c-49da-9e7a-bbe3e66af8bc",
   "metadata": {},
   "outputs": [
    {
     "data": {
      "text/plain": [
       "'Not Found'"
      ]
     },
     "execution_count": 3,
     "metadata": {},
     "output_type": "execute_result"
    }
   ],
   "source": [
    "https_status(404)"
   ]
  },
  {
   "cell_type": "code",
   "execution_count": 4,
   "id": "fa9469c2-0e1c-42f3-80fc-f8100f67eda7",
   "metadata": {},
   "outputs": [],
   "source": [
    "# case _: acts as default case"
   ]
  },
  {
   "cell_type": "code",
   "execution_count": 5,
   "id": "79b98aac-b811-4888-be69-abcf77156279",
   "metadata": {},
   "outputs": [],
   "source": [
    "code = 400"
   ]
  },
  {
   "cell_type": "code",
   "execution_count": 6,
   "id": "935df53d-ae93-4739-b746-c9f808f2db45",
   "metadata": {},
   "outputs": [
    {
     "name": "stdout",
     "output_type": "stream",
     "text": [
      "Bad Response\n",
      "End of program!\n"
     ]
    }
   ],
   "source": [
    "match code:\n",
    "    case 200:\n",
    "        print(\"OK\")\n",
    "    case 400:\n",
    "        print(\"Bad Response\")\n",
    "    case 404:\n",
    "        print(\"Not Found\")\n",
    "    case 500:\n",
    "        print(\"Internal Server Error\")\n",
    "    case _:\n",
    "        print(\"Nothing Match\")\n",
    "print(\"End of program!\")"
   ]
  }
 ],
 "metadata": {
  "kernelspec": {
   "display_name": "Python [conda env:base] *",
   "language": "python",
   "name": "conda-base-py"
  },
  "language_info": {
   "codemirror_mode": {
    "name": "ipython",
    "version": 3
   },
   "file_extension": ".py",
   "mimetype": "text/x-python",
   "name": "python",
   "nbconvert_exporter": "python",
   "pygments_lexer": "ipython3",
   "version": "3.13.5"
  }
 },
 "nbformat": 4,
 "nbformat_minor": 5
}
