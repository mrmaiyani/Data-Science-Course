{
 "cells": [
  {
   "cell_type": "markdown",
   "id": "eacd2309-df08-448a-a257-1f480b807b0c",
   "metadata": {},
   "source": [
    "# List Comprehension"
   ]
  },
  {
   "cell_type": "markdown",
   "id": "aff64312-fa1e-424b-8c34-45318e6c4929",
   "metadata": {},
   "source": [
    "### 1. Basic Syntax"
   ]
  },
  {
   "cell_type": "code",
   "execution_count": 1,
   "id": "ed749f9d-8c96-4f6a-8c19-4a48f1138f5c",
   "metadata": {},
   "outputs": [
    {
     "name": "stdout",
     "output_type": "stream",
     "text": [
      "2 X 1 = 2\n",
      "2 X 2 = 4\n",
      "2 X 3 = 6\n",
      "2 X 4 = 8\n",
      "2 X 5 = 10\n",
      "2 X 6 = 12\n",
      "2 X 7 = 14\n",
      "2 X 8 = 16\n",
      "2 X 9 = 18\n",
      "2 X 10 = 20\n"
     ]
    }
   ],
   "source": [
    "table = []\n",
    "\n",
    "for i in range (1,11):\n",
    "    print(f\"2 X {i} = {2*i}\")\n",
    "    table.append(2*i)"
   ]
  },
  {
   "cell_type": "code",
   "execution_count": 2,
   "id": "d8f33e4e-f01b-4687-903e-e67ca0601afa",
   "metadata": {},
   "outputs": [
    {
     "data": {
      "text/plain": [
       "[2, 4, 6, 8, 10, 12, 14, 16, 18, 20]"
      ]
     },
     "execution_count": 2,
     "metadata": {},
     "output_type": "execute_result"
    }
   ],
   "source": [
    "table"
   ]
  },
  {
   "cell_type": "code",
   "execution_count": 3,
   "id": "a205f21e-1ae7-405b-9689-6d0cd8db58ee",
   "metadata": {},
   "outputs": [],
   "source": [
    "table1 = [2*i for i in range(1,11)]"
   ]
  },
  {
   "cell_type": "code",
   "execution_count": 4,
   "id": "57e74000-a791-406d-904d-81def6a2afaf",
   "metadata": {},
   "outputs": [
    {
     "data": {
      "text/plain": [
       "[2, 4, 6, 8, 10, 12, 14, 16, 18, 20]"
      ]
     },
     "execution_count": 4,
     "metadata": {},
     "output_type": "execute_result"
    }
   ],
   "source": [
    "table1"
   ]
  },
  {
   "cell_type": "markdown",
   "id": "1f92a8cc-a9bf-4bc9-bedf-df47a6ffbe42",
   "metadata": {},
   "source": [
    "### 2. Using if condition in List Comprehension"
   ]
  },
  {
   "cell_type": "code",
   "execution_count": 5,
   "id": "883dc760-6cfc-4c48-bc39-5eac570b367a",
   "metadata": {},
   "outputs": [
    {
     "data": {
      "text/plain": [
       "[4, 8, 12, 16, 20]"
      ]
     },
     "execution_count": 5,
     "metadata": {},
     "output_type": "execute_result"
    }
   ],
   "source": [
    "table2 = [2*i for i in range(1,11) if i%2==0]\n",
    "table2"
   ]
  },
  {
   "cell_type": "markdown",
   "id": "99ebfae7-40b4-45df-b591-88f0454081ee",
   "metadata": {},
   "source": [
    "### 3. Using if-else condition in List Comprehension"
   ]
  },
  {
   "cell_type": "code",
   "execution_count": 6,
   "id": "e12674d9-ad39-4d9a-8ef0-2f60489f5ca5",
   "metadata": {},
   "outputs": [
    {
     "name": "stdout",
     "output_type": "stream",
     "text": [
      "['Even', 'Odd', 'Even', 'Odd', 'Even']\n"
     ]
    }
   ],
   "source": [
    "numbers = [\"Even\" if x % 2 == 0 else \"Odd\" for x in range(5)]\n",
    "print(numbers)"
   ]
  },
  {
   "cell_type": "markdown",
   "id": "05f27c6a-d7d8-4bd1-9795-dca7db1123b4",
   "metadata": {},
   "source": [
    "### 4. Nested Loops in List Comprehension"
   ]
  },
  {
   "cell_type": "code",
   "execution_count": 7,
   "id": "0a5443ba-bd0c-4df5-804f-e62eecc0e1e7",
   "metadata": {},
   "outputs": [
    {
     "name": "stdout",
     "output_type": "stream",
     "text": [
      "[(0, 0), (0, 1), (0, 2), (1, 0), (1, 1), (1, 2)]\n"
     ]
    }
   ],
   "source": [
    "pairs = [(x,y) for x in range(2) for y in range(3)]\n",
    "print(pairs)"
   ]
  },
  {
   "cell_type": "markdown",
   "id": "e0bc28fd-3613-4848-b5a5-529c3b1b46bb",
   "metadata": {},
   "source": [
    "### 5. List Comprehension With Functions"
   ]
  },
  {
   "cell_type": "code",
   "execution_count": 8,
   "id": "255c6361-f2ef-49d4-96ac-a74f4180f3c4",
   "metadata": {},
   "outputs": [
    {
     "name": "stdout",
     "output_type": "stream",
     "text": [
      "['PIYU', 'UTSAV', 'MEET']\n"
     ]
    }
   ],
   "source": [
    "words = [\"piyu\",\"utsav\",\"meet\"]\n",
    "upper_words = [word.upper() for word in words]\n",
    "print(upper_words)"
   ]
  },
  {
   "cell_type": "markdown",
   "id": "1eedb80f-e66f-4112-a036-596ad2218d46",
   "metadata": {},
   "source": [
    "### 6. List comprehensions with Nested list comprehension"
   ]
  },
  {
   "cell_type": "code",
   "execution_count": 9,
   "id": "5b0cb655-c9b5-423f-85fe-869a6495fbc1",
   "metadata": {},
   "outputs": [
    {
     "name": "stdout",
     "output_type": "stream",
     "text": [
      "[1, 2, 2, 4, 5, 6, 7, 8, 9, 10]\n"
     ]
    }
   ],
   "source": [
    "matrix = [[1,2],[2,4],[5,6],[7,8],[9,10]]\n",
    "flattened = [num for row in matrix for num in row]\n",
    "print(flattened)"
   ]
  },
  {
   "cell_type": "markdown",
   "id": "0b9c1ce7-adec-422b-8323-0d18b77a953f",
   "metadata": {},
   "source": [
    "### 7. List Comprehension with Set and Dictionary Comprehensions"
   ]
  },
  {
   "cell_type": "markdown",
   "id": "fcc2c519-77bb-4c20-adf3-45467c33c2a9",
   "metadata": {},
   "source": [
    "##### Set Comprehension"
   ]
  },
  {
   "cell_type": "code",
   "execution_count": 10,
   "id": "c9c57848-3019-46f3-b5f7-278096a48d0f",
   "metadata": {},
   "outputs": [
    {
     "name": "stdout",
     "output_type": "stream",
     "text": [
      "{1, 2, 3, 4, 7}\n"
     ]
    }
   ],
   "source": [
    "unique_numbers = {x for x in [1,2,3,4,1,7,3,2,1,3]}\n",
    "print(unique_numbers)"
   ]
  },
  {
   "cell_type": "markdown",
   "id": "931fd89d-47fe-4d41-a9b9-3c631cadd728",
   "metadata": {},
   "source": [
    "##### Dictionary Comprehensions"
   ]
  },
  {
   "cell_type": "code",
   "execution_count": 11,
   "id": "0133c4e8-061c-4462-a2fc-ef137e990a3f",
   "metadata": {},
   "outputs": [
    {
     "name": "stdout",
     "output_type": "stream",
     "text": [
      "{0: 0, 1: 1, 2: 4, 3: 9, 4: 16, 5: 25, 6: 36, 7: 49}\n"
     ]
    }
   ],
   "source": [
    "squared_dict = {x: x**2 for x in range(8)}\n",
    "print (squared_dict)"
   ]
  },
  {
   "cell_type": "markdown",
   "id": "61fad0ef-43aa-43e4-b90d-62ad2b362e9e",
   "metadata": {},
   "source": [
    "### 8. When to use List Comprehensions?"
   ]
  },
  {
   "cell_type": "markdown",
   "id": "61ab70f3-7648-4be9-ba76-a66dd83b85bd",
   "metadata": {},
   "source": [
    "- You need to Createa list in a single line.\n",
    "- The logic is simple and redable.\n",
    "- You need to improve performance(faster than loops)"
   ]
  },
  {
   "cell_type": "markdown",
   "id": "1b02e54f-c41b-4432-8218-27a403bf0c3d",
   "metadata": {},
   "source": [
    "Avoid when - the logic is too complex(use a standard loop instead for clarity)"
   ]
  },
  {
   "cell_type": "markdown",
   "id": "1421cb4a-e067-482f-bd46-b3c13b580e1f",
   "metadata": {},
   "source": [
    "### 9. Performance Comparison:List Comprehension VS. Loop"
   ]
  },
  {
   "cell_type": "code",
   "execution_count": 12,
   "id": "d0147a13-6f02-46f1-adbc-7566550a4426",
   "metadata": {},
   "outputs": [
    {
     "name": "stdout",
     "output_type": "stream",
     "text": [
      "Loop time: 0.4566025733947754\n",
      "List Comprehension Time: 0.24674272537231445\n"
     ]
    }
   ],
   "source": [
    "import time\n",
    "\n",
    "#using for loop\n",
    "start = time.time()\n",
    "squares_loop = []\n",
    "for x in range (10**6):\n",
    "    squares_loop.append(x**2)\n",
    "print(\"Loop time:\",time.time() -start)\n",
    "\n",
    "#using list comprehension\n",
    "start = time.time()\n",
    "squares_comp = [x**2 for x in range(10**6)]\n",
    "print(\"List Comprehension Time:\", time.time() -start)"
   ]
  },
  {
   "cell_type": "code",
   "execution_count": null,
   "id": "8f522776-1c17-49b1-a67e-ab3b0ed53250",
   "metadata": {},
   "outputs": [],
   "source": []
  }
 ],
 "metadata": {
  "kernelspec": {
   "display_name": "Python [conda env:base] *",
   "language": "python",
   "name": "conda-base-py"
  },
  "language_info": {
   "codemirror_mode": {
    "name": "ipython",
    "version": 3
   },
   "file_extension": ".py",
   "mimetype": "text/x-python",
   "name": "python",
   "nbconvert_exporter": "python",
   "pygments_lexer": "ipython3",
   "version": "3.13.5"
  }
 },
 "nbformat": 4,
 "nbformat_minor": 5
}
