{
 "cells": [
  {
   "cell_type": "markdown",
   "id": "23c82923-e4d3-4466-befc-7560800cf2ad",
   "metadata": {},
   "source": [
    "## JSON (JavaScript Object Notation)"
   ]
  },
  {
   "cell_type": "markdown",
   "id": "1ac0c8a5-0487-4889-b0c9-1082498bfa7c",
   "metadata": {},
   "source": [
    "### converting python object to JSON"
   ]
  },
  {
   "cell_type": "markdown",
   "id": "c1a97a2b-ffcc-44de-85ad-d7a859203bbf",
   "metadata": {},
   "source": [
    "#### json.dumps() -convert python object to JSON string"
   ]
  },
  {
   "cell_type": "code",
   "execution_count": 4,
   "id": "90b5f326-5b73-4748-baca-6d757d4c5a4d",
   "metadata": {},
   "outputs": [
    {
     "name": "stdout",
     "output_type": "stream",
     "text": [
      "{\"name\": \"utsav\", \"age\": 18, \"city\": \"surat\"}\n",
      "<class 'str'>\n"
     ]
    }
   ],
   "source": [
    "import json\n",
    "\n",
    "data = {\"name\":\"utsav\",\"age\":18,\"city\":\"surat\"}\n",
    "\n",
    "json_string = json.dumps(data) #this do dump data in string\n",
    "print(json_string)\n",
    "print(type(json_string))"
   ]
  },
  {
   "cell_type": "markdown",
   "id": "af85981b-63dd-4571-925e-206d1d3ea18b",
   "metadata": {},
   "source": [
    "#### json.dump() -Write JSON data to a file"
   ]
  },
  {
   "cell_type": "code",
   "execution_count": 10,
   "id": "e743278b-0d20-408d-b277-02a379c95071",
   "metadata": {},
   "outputs": [],
   "source": [
    "with open(\"data.json\",\"w\") as file:\n",
    "    json.dump(data,file)\n",
    "    file.close()"
   ]
  },
  {
   "cell_type": "markdown",
   "id": "b47f8240-c5f2-48ec-87d7-9acbaeb8342d",
   "metadata": {},
   "source": [
    "### converting JSON to python objects"
   ]
  },
  {
   "cell_type": "markdown",
   "id": "b025707b-f490-4032-9694-624a70e09782",
   "metadata": {},
   "source": [
    "#### json.loads() -convert JSON string to python object"
   ]
  },
  {
   "cell_type": "code",
   "execution_count": 13,
   "id": "f5f767ef-84df-4cd4-81c8-93fd721a6e76",
   "metadata": {},
   "outputs": [
    {
     "name": "stdout",
     "output_type": "stream",
     "text": [
      "{'name': 'utsav', 'age': 18, 'city': 'surat'}\n",
      "<class 'dict'>\n"
     ]
    }
   ],
   "source": [
    "json_data = '{\"name\": \"utsav\", \"age\": 18, \"city\": \"surat\"}'\n",
    "\n",
    "python_obj = json.loads(json_data) #load as string (loads)\n",
    "print(python_obj)\n",
    "print(type(python_obj))"
   ]
  },
  {
   "cell_type": "markdown",
   "id": "848d1954-f582-4a60-ab4f-592d4f272cf6",
   "metadata": {},
   "source": [
    "#### json.load() -Read JSON data from a file"
   ]
  },
  {
   "cell_type": "code",
   "execution_count": 14,
   "id": "c0538842-0b72-4291-92cd-e1585811eea0",
   "metadata": {},
   "outputs": [
    {
     "name": "stdout",
     "output_type": "stream",
     "text": [
      "{'name': 'utsav', 'age': 18, 'city': 'surat'}\n"
     ]
    }
   ],
   "source": [
    "with open(\"data.json\",\"r\") as file:\n",
    "    python_data = json.load(file)\n",
    "\n",
    "print(python_data)"
   ]
  },
  {
   "cell_type": "markdown",
   "id": "d324ac70-7bdf-4cc8-a258-375b0c598994",
   "metadata": {},
   "source": [
    "### Formatting JSON output"
   ]
  },
  {
   "cell_type": "code",
   "execution_count": 15,
   "id": "32d96afc-474a-432f-a8b1-8ac055779bff",
   "metadata": {},
   "outputs": [
    {
     "name": "stdout",
     "output_type": "stream",
     "text": [
      "{\n",
      "    \"name\": \"utsav\",\n",
      "    \"age\": 18,\n",
      "    \"city\": \"surat\"\n",
      "}\n"
     ]
    }
   ],
   "source": [
    "formatted_json = json.dumps(data, indent = 4)\n",
    "print(formatted_json)"
   ]
  }
 ],
 "metadata": {
  "kernelspec": {
   "display_name": "Python [conda env:base] *",
   "language": "python",
   "name": "conda-base-py"
  },
  "language_info": {
   "codemirror_mode": {
    "name": "ipython",
    "version": 3
   },
   "file_extension": ".py",
   "mimetype": "text/x-python",
   "name": "python",
   "nbconvert_exporter": "python",
   "pygments_lexer": "ipython3",
   "version": "3.13.5"
  }
 },
 "nbformat": 4,
 "nbformat_minor": 5
}
