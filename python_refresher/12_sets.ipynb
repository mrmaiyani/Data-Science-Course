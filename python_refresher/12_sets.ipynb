{
 "cells": [
  {
   "cell_type": "markdown",
   "id": "741ff831-7c60-46a1-94c2-cd2c173342a8",
   "metadata": {},
   "source": [
    "## Python Set And Set Methods"
   ]
  },
  {
   "cell_type": "markdown",
   "id": "33454abe-a9a4-4c9b-bc33-8aec9e884bc8",
   "metadata": {},
   "source": [
    "### What is set?\n",
    "a set in python is an unordered,mutable,and unique collection of elements.it does not allow duplicate values."
   ]
  },
  {
   "cell_type": "code",
   "execution_count": 1,
   "id": "da9aa97b-d4c2-4c37-b0f6-7ba35d96636d",
   "metadata": {},
   "outputs": [],
   "source": [
    "# Empty set\n",
    "a = set()"
   ]
  },
  {
   "cell_type": "code",
   "execution_count": 2,
   "id": "f7ed59eb-efe9-4aef-b291-ce018fb8a6e2",
   "metadata": {},
   "outputs": [
    {
     "data": {
      "text/plain": [
       "set"
      ]
     },
     "execution_count": 2,
     "metadata": {},
     "output_type": "execute_result"
    }
   ],
   "source": [
    "type(a)"
   ]
  },
  {
   "cell_type": "code",
   "execution_count": 3,
   "id": "502aa88f-fcb8-4a34-a9b2-9f3bf24710b5",
   "metadata": {},
   "outputs": [],
   "source": [
    "# Set with elements\n",
    "n = {1,2,3,4,5,5}"
   ]
  },
  {
   "cell_type": "code",
   "execution_count": 4,
   "id": "1de01b34-a580-4b79-970b-dbadd87a4d3c",
   "metadata": {},
   "outputs": [
    {
     "data": {
      "text/plain": [
       "{1, 2, 3, 4, 5}"
      ]
     },
     "execution_count": 4,
     "metadata": {},
     "output_type": "execute_result"
    }
   ],
   "source": [
    "n"
   ]
  },
  {
   "cell_type": "code",
   "execution_count": 5,
   "id": "815196e0-61b7-4d0d-810d-bbc03ddba628",
   "metadata": {},
   "outputs": [
    {
     "name": "stdout",
     "output_type": "stream",
     "text": [
      "{False, 1, 3.14, 'utsav'}\n"
     ]
    }
   ],
   "source": [
    "# Mixed data type\n",
    "s = {1,\"utsav\",3.14,False}\n",
    "print(s)"
   ]
  },
  {
   "cell_type": "code",
   "execution_count": 6,
   "id": "e783a187-3da9-49c5-b7c8-5bd8c33a6fee",
   "metadata": {},
   "outputs": [
    {
     "name": "stdout",
     "output_type": "stream",
     "text": [
      "{1, 2, 3, 4, 5}\n"
     ]
    }
   ],
   "source": [
    "# creating a set from a list\n",
    "b = set([1,2,2,3,4,4,5])\n",
    "print(b)"
   ]
  },
  {
   "cell_type": "markdown",
   "id": "4fd057f5-2d21-4643-9a57-60a84ddef5ef",
   "metadata": {},
   "source": [
    "### set methods"
   ]
  },
  {
   "cell_type": "code",
   "execution_count": 7,
   "id": "2c35b3e0-7337-4d3f-bcb9-dd7efe7dfddc",
   "metadata": {},
   "outputs": [],
   "source": [
    "n = {1,2,3,4,5,5}\n",
    "n.add(34)"
   ]
  },
  {
   "cell_type": "code",
   "execution_count": 8,
   "id": "e7cf5171-ec12-42ee-8706-d4693b378af7",
   "metadata": {},
   "outputs": [
    {
     "data": {
      "text/plain": [
       "{1, 2, 3, 4, 5, 34}"
      ]
     },
     "execution_count": 8,
     "metadata": {},
     "output_type": "execute_result"
    }
   ],
   "source": [
    "n"
   ]
  },
  {
   "cell_type": "code",
   "execution_count": 9,
   "id": "69663131-2bbc-4055-acf3-db70143b6fa6",
   "metadata": {},
   "outputs": [],
   "source": [
    "n.update([45,23,34])"
   ]
  },
  {
   "cell_type": "code",
   "execution_count": 10,
   "id": "59a50e9c-4283-4181-9d0d-7dd73c45fa6b",
   "metadata": {},
   "outputs": [
    {
     "data": {
      "text/plain": [
       "{1, 2, 3, 4, 5, 23, 34, 45}"
      ]
     },
     "execution_count": 10,
     "metadata": {},
     "output_type": "execute_result"
    }
   ],
   "source": [
    "n"
   ]
  },
  {
   "cell_type": "code",
   "execution_count": 11,
   "id": "476e8db1-46e9-4912-84b9-6a2366f02d5f",
   "metadata": {},
   "outputs": [],
   "source": [
    "n.remove(2)"
   ]
  },
  {
   "cell_type": "code",
   "execution_count": 12,
   "id": "4bb6fbc0-19e4-48e0-8ca1-a3d04b5a46d3",
   "metadata": {},
   "outputs": [
    {
     "data": {
      "text/plain": [
       "{1, 3, 4, 5, 23, 34, 45}"
      ]
     },
     "execution_count": 12,
     "metadata": {},
     "output_type": "execute_result"
    }
   ],
   "source": [
    "n"
   ]
  },
  {
   "cell_type": "code",
   "execution_count": 13,
   "id": "2000980b-34cd-42d6-b573-63cb6d29117a",
   "metadata": {},
   "outputs": [],
   "source": [
    "n.discard(8)"
   ]
  },
  {
   "cell_type": "code",
   "execution_count": 14,
   "id": "102c5fcf-c295-4057-b3b4-782bc860c6b7",
   "metadata": {},
   "outputs": [
    {
     "data": {
      "text/plain": [
       "{1, 3, 4, 5, 23, 34, 45}"
      ]
     },
     "execution_count": 14,
     "metadata": {},
     "output_type": "execute_result"
    }
   ],
   "source": [
    "n"
   ]
  },
  {
   "cell_type": "code",
   "execution_count": 15,
   "id": "85c5e247-509e-45d8-a6de-fd64f2e6f8e4",
   "metadata": {},
   "outputs": [],
   "source": [
    "n.discard(4)"
   ]
  },
  {
   "cell_type": "code",
   "execution_count": 16,
   "id": "f171f85e-1e7d-463d-82f8-051658cafd3a",
   "metadata": {},
   "outputs": [
    {
     "data": {
      "text/plain": [
       "{1, 3, 5, 23, 34, 45}"
      ]
     },
     "execution_count": 16,
     "metadata": {},
     "output_type": "execute_result"
    }
   ],
   "source": [
    "n"
   ]
  },
  {
   "cell_type": "code",
   "execution_count": 17,
   "id": "381e294f-d127-47d0-a912-345339116d0d",
   "metadata": {},
   "outputs": [
    {
     "data": {
      "text/plain": [
       "1"
      ]
     },
     "execution_count": 17,
     "metadata": {},
     "output_type": "execute_result"
    }
   ],
   "source": [
    "n.pop()"
   ]
  },
  {
   "cell_type": "code",
   "execution_count": 18,
   "id": "a3f8aeb5-9f9a-43c0-9f2a-38281a8b90ee",
   "metadata": {},
   "outputs": [
    {
     "data": {
      "text/plain": [
       "{3, 5, 23, 34, 45}"
      ]
     },
     "execution_count": 18,
     "metadata": {},
     "output_type": "execute_result"
    }
   ],
   "source": [
    "n"
   ]
  },
  {
   "cell_type": "code",
   "execution_count": 19,
   "id": "e9743197-baee-4ab6-b933-8f53fe2b6a92",
   "metadata": {},
   "outputs": [],
   "source": [
    "new_set = n.copy()"
   ]
  },
  {
   "cell_type": "code",
   "execution_count": 20,
   "id": "17a78765-2030-4b49-948f-ebdf3ddef83c",
   "metadata": {},
   "outputs": [
    {
     "data": {
      "text/plain": [
       "{3, 5, 23, 34, 45}"
      ]
     },
     "execution_count": 20,
     "metadata": {},
     "output_type": "execute_result"
    }
   ],
   "source": [
    "new_set"
   ]
  },
  {
   "cell_type": "code",
   "execution_count": 21,
   "id": "0b7c60a6-0855-4f5e-b198-bca0da4f4432",
   "metadata": {},
   "outputs": [
    {
     "data": {
      "text/plain": [
       "{3, 5, 23, 34, 45}"
      ]
     },
     "execution_count": 21,
     "metadata": {},
     "output_type": "execute_result"
    }
   ],
   "source": [
    "n"
   ]
  },
  {
   "cell_type": "code",
   "execution_count": 22,
   "id": "ffe531c4-2c61-42de-b5d1-1efc4380f2b5",
   "metadata": {},
   "outputs": [],
   "source": [
    "n.clear()"
   ]
  },
  {
   "cell_type": "code",
   "execution_count": 23,
   "id": "ecf9f6d0-158a-49a6-b4c5-935f6dbe0901",
   "metadata": {},
   "outputs": [
    {
     "data": {
      "text/plain": [
       "set()"
      ]
     },
     "execution_count": 23,
     "metadata": {},
     "output_type": "execute_result"
    }
   ],
   "source": [
    "n"
   ]
  },
  {
   "cell_type": "markdown",
   "id": "4dad1d8c-236c-4230-accb-3ecd5db1942e",
   "metadata": {},
   "source": [
    "### set operation"
   ]
  },
  {
   "cell_type": "code",
   "execution_count": 24,
   "id": "d89c4e4b-5223-418f-9a5f-8b539c3a1454",
   "metadata": {},
   "outputs": [],
   "source": [
    "a = {22,51,34,62,12}\n",
    "b = {62,51,32,24,11}"
   ]
  },
  {
   "cell_type": "code",
   "execution_count": 25,
   "id": "2f92bbdd-6acd-4f50-ba9f-a406ffccd019",
   "metadata": {},
   "outputs": [
    {
     "data": {
      "text/plain": [
       "{11, 12, 22, 24, 32, 34, 51, 62}"
      ]
     },
     "execution_count": 25,
     "metadata": {},
     "output_type": "execute_result"
    }
   ],
   "source": [
    "a.union(b)"
   ]
  },
  {
   "cell_type": "code",
   "execution_count": 26,
   "id": "979a5b1a-ac0a-4391-934c-4a1883475a2e",
   "metadata": {},
   "outputs": [
    {
     "data": {
      "text/plain": [
       "{51, 62}"
      ]
     },
     "execution_count": 26,
     "metadata": {},
     "output_type": "execute_result"
    }
   ],
   "source": [
    "a.intersection(b)"
   ]
  },
  {
   "cell_type": "code",
   "execution_count": 27,
   "id": "7a9cdae7-fa6e-49a0-beb1-0827f0839578",
   "metadata": {},
   "outputs": [],
   "source": [
    "sub = {51,34}"
   ]
  },
  {
   "cell_type": "code",
   "execution_count": 28,
   "id": "564451b1-bc5f-4c00-8180-19d8459df4be",
   "metadata": {},
   "outputs": [
    {
     "data": {
      "text/plain": [
       "True"
      ]
     },
     "execution_count": 28,
     "metadata": {},
     "output_type": "execute_result"
    }
   ],
   "source": [
    "sub.issubset(a)"
   ]
  },
  {
   "cell_type": "code",
   "execution_count": 29,
   "id": "c68e70b7-a13b-4156-a93f-ba4bf9382042",
   "metadata": {},
   "outputs": [
    {
     "data": {
      "text/plain": [
       "True"
      ]
     },
     "execution_count": 29,
     "metadata": {},
     "output_type": "execute_result"
    }
   ],
   "source": [
    "a.issuperset(sub)"
   ]
  }
 ],
 "metadata": {
  "kernelspec": {
   "display_name": "Python [conda env:base] *",
   "language": "python",
   "name": "conda-base-py"
  },
  "language_info": {
   "codemirror_mode": {
    "name": "ipython",
    "version": 3
   },
   "file_extension": ".py",
   "mimetype": "text/x-python",
   "name": "python",
   "nbconvert_exporter": "python",
   "pygments_lexer": "ipython3",
   "version": "3.13.5"
  }
 },
 "nbformat": 4,
 "nbformat_minor": 5
}
