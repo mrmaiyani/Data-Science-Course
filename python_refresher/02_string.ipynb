{
 "cells": [
  {
   "cell_type": "code",
   "execution_count": 1,
   "id": "25583ccc-11bb-4552-b18a-768961c90a91",
   "metadata": {},
   "outputs": [],
   "source": [
    "name = \"utsav\""
   ]
  },
  {
   "cell_type": "code",
   "execution_count": 2,
   "id": "f815822d-9be5-4808-8720-b46a6ac3acfc",
   "metadata": {},
   "outputs": [
    {
     "data": {
      "text/plain": [
       "'utsav'"
      ]
     },
     "execution_count": 2,
     "metadata": {},
     "output_type": "execute_result"
    }
   ],
   "source": [
    "name"
   ]
  },
  {
   "cell_type": "code",
   "execution_count": 3,
   "id": "93741820-23bd-44ab-b8aa-a25de504a6d7",
   "metadata": {},
   "outputs": [
    {
     "data": {
      "text/plain": [
       "'UTSAV'"
      ]
     },
     "execution_count": 3,
     "metadata": {},
     "output_type": "execute_result"
    }
   ],
   "source": [
    "name.upper()"
   ]
  },
  {
   "cell_type": "code",
   "execution_count": 4,
   "id": "767fe424-cced-4493-8576-707a9c58230e",
   "metadata": {},
   "outputs": [
    {
     "data": {
      "text/plain": [
       "'utsav'"
      ]
     },
     "execution_count": 4,
     "metadata": {},
     "output_type": "execute_result"
    }
   ],
   "source": [
    "name.lower()"
   ]
  },
  {
   "cell_type": "code",
   "execution_count": 5,
   "id": "a47ad94d-6d60-4cd5-9db5-43abe93fd65b",
   "metadata": {},
   "outputs": [
    {
     "data": {
      "text/plain": [
       "'Utsav'"
      ]
     },
     "execution_count": 5,
     "metadata": {},
     "output_type": "execute_result"
    }
   ],
   "source": [
    "name.capitalize()"
   ]
  },
  {
   "cell_type": "code",
   "execution_count": 6,
   "id": "eca2f3b0-e048-49ff-a856-535618b0e331",
   "metadata": {},
   "outputs": [
    {
     "data": {
      "text/plain": [
       "True"
      ]
     },
     "execution_count": 6,
     "metadata": {},
     "output_type": "execute_result"
    }
   ],
   "source": [
    "name.endswith(\"sav\")"
   ]
  },
  {
   "cell_type": "code",
   "execution_count": 7,
   "id": "42d89aef-d97f-4bcb-9105-8135299cb218",
   "metadata": {},
   "outputs": [
    {
     "data": {
      "text/plain": [
       "False"
      ]
     },
     "execution_count": 7,
     "metadata": {},
     "output_type": "execute_result"
    }
   ],
   "source": [
    "name.endswith(\"uts\")"
   ]
  },
  {
   "cell_type": "code",
   "execution_count": 8,
   "id": "3aab82cd-f56a-4256-8842-14e1b5bf33ee",
   "metadata": {},
   "outputs": [
    {
     "data": {
      "text/plain": [
       "1"
      ]
     },
     "execution_count": 8,
     "metadata": {},
     "output_type": "execute_result"
    }
   ],
   "source": [
    "name.count(\"t\")"
   ]
  },
  {
   "cell_type": "code",
   "execution_count": 9,
   "id": "f6f49634-5765-41b2-8da5-266169da87fa",
   "metadata": {},
   "outputs": [
    {
     "data": {
      "text/plain": [
       "True"
      ]
     },
     "execution_count": 9,
     "metadata": {},
     "output_type": "execute_result"
    }
   ],
   "source": [
    "name.startswith(\"uts\")"
   ]
  },
  {
   "cell_type": "code",
   "execution_count": 10,
   "id": "451e0110-2d6a-46ae-ad54-a359c7a7f669",
   "metadata": {},
   "outputs": [
    {
     "name": "stdout",
     "output_type": "stream",
     "text": [
      "16\n"
     ]
    }
   ],
   "source": [
    "p = \" python is best \"\n",
    "print(len(p))"
   ]
  },
  {
   "cell_type": "code",
   "execution_count": 11,
   "id": "6c35b958-bbda-4254-a1c0-dbeaf612a4e6",
   "metadata": {},
   "outputs": [
    {
     "name": "stdout",
     "output_type": "stream",
     "text": [
      "python is best\n"
     ]
    }
   ],
   "source": [
    "print(p.strip())"
   ]
  },
  {
   "cell_type": "code",
   "execution_count": 12,
   "id": "744f3df0-72a2-4cfb-81e5-65f5d379f260",
   "metadata": {},
   "outputs": [
    {
     "name": "stdout",
     "output_type": "stream",
     "text": [
      " python is usefull \n"
     ]
    }
   ],
   "source": [
    "print(p.replace(\"best\",\"usefull\"))"
   ]
  },
  {
   "cell_type": "code",
   "execution_count": 13,
   "id": "c487037e-8b1a-4876-8e06-352332aa0c87",
   "metadata": {},
   "outputs": [
    {
     "name": "stdout",
     "output_type": "stream",
     "text": [
      "11\n"
     ]
    }
   ],
   "source": [
    "print(p.find(\"best\"))"
   ]
  },
  {
   "cell_type": "code",
   "execution_count": 14,
   "id": "565cb211-3cf5-4576-8b6b-7835093b3f12",
   "metadata": {},
   "outputs": [
    {
     "data": {
      "text/plain": [
       "' pyth'"
      ]
     },
     "execution_count": 14,
     "metadata": {},
     "output_type": "execute_result"
    }
   ],
   "source": [
    "p[0:5]"
   ]
  },
  {
   "cell_type": "code",
   "execution_count": 15,
   "id": "ad9b9b6b-e1d4-4102-aa30-e6b44f99a21d",
   "metadata": {},
   "outputs": [
    {
     "data": {
      "text/plain": [
       "'python is best'"
      ]
     },
     "execution_count": 15,
     "metadata": {},
     "output_type": "execute_result"
    }
   ],
   "source": [
    "p[1:-1]"
   ]
  },
  {
   "cell_type": "code",
   "execution_count": 16,
   "id": "33554329-7702-41e2-96d3-4b9ecb8d185c",
   "metadata": {},
   "outputs": [
    {
     "data": {
      "text/plain": [
       "'python is best'"
      ]
     },
     "execution_count": 16,
     "metadata": {},
     "output_type": "execute_result"
    }
   ],
   "source": [
    "p[1:15]"
   ]
  },
  {
   "cell_type": "code",
   "execution_count": 17,
   "id": "dbf6b358-af55-4731-b746-9ffd74d2a4a4",
   "metadata": {},
   "outputs": [
    {
     "data": {
      "text/plain": [
       "'python is best'"
      ]
     },
     "execution_count": 17,
     "metadata": {},
     "output_type": "execute_result"
    }
   ],
   "source": [
    "p[-15:-1]"
   ]
  }
 ],
 "metadata": {
  "kernelspec": {
   "display_name": "Python [conda env:base] *",
   "language": "python",
   "name": "conda-base-py"
  },
  "language_info": {
   "codemirror_mode": {
    "name": "ipython",
    "version": 3
   },
   "file_extension": ".py",
   "mimetype": "text/x-python",
   "name": "python",
   "nbconvert_exporter": "python",
   "pygments_lexer": "ipython3",
   "version": "3.13.5"
  }
 },
 "nbformat": 4,
 "nbformat_minor": 5
}
