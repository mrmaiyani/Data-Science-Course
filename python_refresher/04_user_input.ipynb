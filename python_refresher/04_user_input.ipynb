{
 "cells": [
  {
   "cell_type": "code",
   "execution_count": 1,
   "id": "c3a74430-306d-4fef-b70e-af7714a378f4",
   "metadata": {},
   "outputs": [
    {
     "name": "stdin",
     "output_type": "stream",
     "text": [
      "Enter Your Number: 16\n"
     ]
    }
   ],
   "source": [
    "a = int(input(\"Enter Your Number:\"))"
   ]
  },
  {
   "cell_type": "code",
   "execution_count": 2,
   "id": "0cb356ff-57e3-4a04-a878-4fd875263691",
   "metadata": {},
   "outputs": [
    {
     "name": "stdin",
     "output_type": "stream",
     "text": [
      "Enter Your Number 17\n"
     ]
    }
   ],
   "source": [
    "b = int(input(\"Enter Your Number\"))"
   ]
  },
  {
   "cell_type": "code",
   "execution_count": 3,
   "id": "681ce33d-6fb2-4158-9d39-98dfde0ed760",
   "metadata": {},
   "outputs": [
    {
     "data": {
      "text/plain": [
       "33"
      ]
     },
     "execution_count": 3,
     "metadata": {},
     "output_type": "execute_result"
    }
   ],
   "source": [
    "a + b"
   ]
  },
  {
   "cell_type": "code",
   "execution_count": 7,
   "id": "3037b090-e6a2-465f-a590-4752a913c5fa",
   "metadata": {},
   "outputs": [
    {
     "name": "stdin",
     "output_type": "stream",
     "text": [
      "Enter Your Number: 12\n"
     ]
    }
   ],
   "source": [
    "c = input(\"Enter Your Number:\")"
   ]
  },
  {
   "cell_type": "code",
   "execution_count": 9,
   "id": "426f1779-c5e7-4eba-9d8a-3d5ffaa7fdb3",
   "metadata": {},
   "outputs": [
    {
     "name": "stdin",
     "output_type": "stream",
     "text": [
      "Enter Your Number: 34\n"
     ]
    }
   ],
   "source": [
    "d = input(\"Enter Your Number:\")"
   ]
  },
  {
   "cell_type": "code",
   "execution_count": 10,
   "id": "52ff3811-5d74-4e16-935c-535f3365cf66",
   "metadata": {},
   "outputs": [
    {
     "data": {
      "text/plain": [
       "'1234'"
      ]
     },
     "execution_count": 10,
     "metadata": {},
     "output_type": "execute_result"
    }
   ],
   "source": [
    "c + d"
   ]
  },
  {
   "cell_type": "code",
   "execution_count": 11,
   "id": "8ad31638-c20f-41d2-be9f-64be87785906",
   "metadata": {},
   "outputs": [
    {
     "data": {
      "text/plain": [
       "46"
      ]
     },
     "execution_count": 11,
     "metadata": {},
     "output_type": "execute_result"
    }
   ],
   "source": [
    "int(c) + int(d)"
   ]
  },
  {
   "cell_type": "code",
   "execution_count": null,
   "id": "50190915-56bf-4d8c-b304-473a897b0aa7",
   "metadata": {},
   "outputs": [],
   "source": []
  }
 ],
 "metadata": {
  "kernelspec": {
   "display_name": "Python [conda env:base] *",
   "language": "python",
   "name": "conda-base-py"
  },
  "language_info": {
   "codemirror_mode": {
    "name": "ipython",
    "version": 3
   },
   "file_extension": ".py",
   "mimetype": "text/x-python",
   "name": "python",
   "nbconvert_exporter": "python",
   "pygments_lexer": "ipython3",
   "version": "3.13.5"
  }
 },
 "nbformat": 4,
 "nbformat_minor": 5
}
