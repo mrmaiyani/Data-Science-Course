{
 "cells": [
  {
   "cell_type": "markdown",
   "id": "c4ecaff9-68df-4981-be33-ae5736f226fe",
   "metadata": {},
   "source": [
    "### dictionary"
   ]
  },
  {
   "cell_type": "code",
   "execution_count": 1,
   "id": "d3b1f3ce-1739-4586-be06-e6ba14cf028f",
   "metadata": {},
   "outputs": [],
   "source": [
    "student = {\"name\":\"utsav\",\n",
    "          \"age\": 18,\n",
    "          \"Grade\": \"A\"}"
   ]
  },
  {
   "cell_type": "code",
   "execution_count": 2,
   "id": "45abde55-5f0c-4555-8b6e-a94a714c0546",
   "metadata": {},
   "outputs": [
    {
     "data": {
      "text/plain": [
       "'utsav'"
      ]
     },
     "execution_count": 2,
     "metadata": {},
     "output_type": "execute_result"
    }
   ],
   "source": [
    "student[\"name\"]"
   ]
  },
  {
   "cell_type": "code",
   "execution_count": 3,
   "id": "15d89df4-5ca3-4982-8434-9c0d5dbc3af2",
   "metadata": {},
   "outputs": [
    {
     "data": {
      "text/plain": [
       "dict_values(['utsav', 18, 'A'])"
      ]
     },
     "execution_count": 3,
     "metadata": {},
     "output_type": "execute_result"
    }
   ],
   "source": [
    "student.values()"
   ]
  },
  {
   "cell_type": "code",
   "execution_count": 4,
   "id": "e61416b9-725b-4521-b306-bec851188d11",
   "metadata": {},
   "outputs": [
    {
     "data": {
      "text/plain": [
       "18"
      ]
     },
     "execution_count": 4,
     "metadata": {},
     "output_type": "execute_result"
    }
   ],
   "source": [
    "student.pop(\"age\")"
   ]
  },
  {
   "cell_type": "code",
   "execution_count": 5,
   "id": "ca7f75b4-2067-414b-b830-233c50567d87",
   "metadata": {},
   "outputs": [
    {
     "data": {
      "text/plain": [
       "{'name': 'utsav', 'Grade': 'A'}"
      ]
     },
     "execution_count": 5,
     "metadata": {},
     "output_type": "execute_result"
    }
   ],
   "source": [
    "student"
   ]
  },
  {
   "cell_type": "code",
   "execution_count": 6,
   "id": "57071a14-b0ff-4e7f-9751-d826e5f5b878",
   "metadata": {},
   "outputs": [
    {
     "data": {
      "text/plain": [
       "dict_items([('name', 'utsav'), ('Grade', 'A')])"
      ]
     },
     "execution_count": 6,
     "metadata": {},
     "output_type": "execute_result"
    }
   ],
   "source": [
    "student.items()"
   ]
  },
  {
   "cell_type": "code",
   "execution_count": 7,
   "id": "783e2cc7-47ee-48d1-84e2-c7bfdddc8d5b",
   "metadata": {},
   "outputs": [
    {
     "data": {
      "text/plain": [
       "('Grade', 'A')"
      ]
     },
     "execution_count": 7,
     "metadata": {},
     "output_type": "execute_result"
    }
   ],
   "source": [
    "student.popitem()"
   ]
  },
  {
   "cell_type": "code",
   "execution_count": 8,
   "id": "da25960b-6949-40e6-af36-50a6caad2697",
   "metadata": {},
   "outputs": [
    {
     "data": {
      "text/plain": [
       "{'name': 'utsav'}"
      ]
     },
     "execution_count": 8,
     "metadata": {},
     "output_type": "execute_result"
    }
   ],
   "source": [
    "student"
   ]
  },
  {
   "cell_type": "code",
   "execution_count": 9,
   "id": "2acd63e7-7384-4cf3-b318-cce61ec77397",
   "metadata": {},
   "outputs": [],
   "source": [
    "student.update({\"Grade\": \"C\",\n",
    "              \"marks\": 32})"
   ]
  },
  {
   "cell_type": "code",
   "execution_count": 10,
   "id": "e0cf2fb1-9669-4de6-bb65-44d217f2afa6",
   "metadata": {},
   "outputs": [
    {
     "data": {
      "text/plain": [
       "{'name': 'utsav', 'Grade': 'C', 'marks': 32}"
      ]
     },
     "execution_count": 10,
     "metadata": {},
     "output_type": "execute_result"
    }
   ],
   "source": [
    "student"
   ]
  },
  {
   "cell_type": "code",
   "execution_count": 11,
   "id": "dccb3d29-13c3-4da2-89e8-6adfd2830b6f",
   "metadata": {},
   "outputs": [],
   "source": [
    "c = student.copy()"
   ]
  },
  {
   "cell_type": "code",
   "execution_count": 12,
   "id": "118eb0fc-08ea-43e0-9443-22b360c7de28",
   "metadata": {},
   "outputs": [
    {
     "name": "stdout",
     "output_type": "stream",
     "text": [
      "{'name': 'utsav', 'Grade': 'C', 'marks': 32}\n"
     ]
    }
   ],
   "source": [
    "print(c)"
   ]
  },
  {
   "cell_type": "code",
   "execution_count": 13,
   "id": "0f1146fc-6915-46e8-ad2a-f88649908622",
   "metadata": {},
   "outputs": [],
   "source": [
    "student.clear()"
   ]
  },
  {
   "cell_type": "code",
   "execution_count": 14,
   "id": "cd77bfd5-cea2-4ca2-8b73-494d5b8aec1f",
   "metadata": {},
   "outputs": [
    {
     "data": {
      "text/plain": [
       "{}"
      ]
     },
     "execution_count": 14,
     "metadata": {},
     "output_type": "execute_result"
    }
   ],
   "source": [
    "student"
   ]
  },
  {
   "cell_type": "code",
   "execution_count": 16,
   "id": "b279a50e-694f-4b67-ae14-f08fc8bea747",
   "metadata": {},
   "outputs": [
    {
     "data": {
      "text/plain": [
       "{'name': 'utsav', 'Grade': 'C', 'marks': 32}"
      ]
     },
     "execution_count": 16,
     "metadata": {},
     "output_type": "execute_result"
    }
   ],
   "source": [
    "c"
   ]
  },
  {
   "cell_type": "code",
   "execution_count": 17,
   "id": "09e86385-3d2d-490a-ac2c-2cd076ac0154",
   "metadata": {},
   "outputs": [],
   "source": [
    "c[\"City\"]=\"Surat\""
   ]
  },
  {
   "cell_type": "code",
   "execution_count": 18,
   "id": "8ff61c43-abdf-4863-83c8-d09c42047367",
   "metadata": {},
   "outputs": [
    {
     "data": {
      "text/plain": [
       "{'name': 'utsav', 'Grade': 'C', 'marks': 32, 'City': 'Surat'}"
      ]
     },
     "execution_count": 18,
     "metadata": {},
     "output_type": "execute_result"
    }
   ],
   "source": [
    "c"
   ]
  },
  {
   "cell_type": "code",
   "execution_count": 19,
   "id": "f1ca0f6b-5721-455b-a190-02502441c2f1",
   "metadata": {},
   "outputs": [
    {
     "name": "stdout",
     "output_type": "stream",
     "text": [
      "name : utsav\n",
      "Grade : C\n",
      "marks : 32\n",
      "City : Surat\n"
     ]
    }
   ],
   "source": [
    "for key, value in c.items():\n",
    "    print(key, \":\", value)"
   ]
  },
  {
   "cell_type": "code",
   "execution_count": 20,
   "id": "b0da16cd-e11f-43c4-b17f-7a4d8bd446b4",
   "metadata": {},
   "outputs": [
    {
     "name": "stdout",
     "output_type": "stream",
     "text": [
      "{1: 1, 2: 4, 3: 9, 4: 16, 5: 25}\n"
     ]
    }
   ],
   "source": [
    "squares = {x: x**2 for x in range(1,6)}\n",
    "print(squares)"
   ]
  }
 ],
 "metadata": {
  "kernelspec": {
   "display_name": "Python [conda env:base] *",
   "language": "python",
   "name": "conda-base-py"
  },
  "language_info": {
   "codemirror_mode": {
    "name": "ipython",
    "version": 3
   },
   "file_extension": ".py",
   "mimetype": "text/x-python",
   "name": "python",
   "nbconvert_exporter": "python",
   "pygments_lexer": "ipython3",
   "version": "3.13.5"
  }
 },
 "nbformat": 4,
 "nbformat_minor": 5
}
