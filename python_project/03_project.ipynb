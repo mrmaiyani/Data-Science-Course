{
 "cells": [
  {
   "cell_type": "code",
   "execution_count": 2,
   "id": "a914524e-189a-4812-8e4d-5f38f59ed818",
   "metadata": {},
   "outputs": [
    {
     "name": "stdout",
     "output_type": "stream",
     "text": [
      "[15, 12, 14, 18, 23, 22, 7, 11, 26, 27, 1, 3]\n"
     ]
    }
   ],
   "source": [
    "import json\n",
    "\n",
    "def load_data(filename):\n",
    "    with open(filename,\"r\") as f:\n",
    "        data = json.load(f)\n",
    "        return data\n",
    "\n",
    "def find_people_you_may_know(user_id,data):\n",
    "    user_friends = {}\n",
    "    for user in data[\"users\"]:\n",
    "        user_friends[user[\"id\"]] = set(user[\"friends\"])\n",
    "\n",
    "    if user_id not in user_friends:\n",
    "        return []\n",
    "\n",
    "    direct_friends = user_friends[user_id]\n",
    "    suggestions = {}\n",
    "    for friend in direct_friends:\n",
    "        for mutual in user_friends[friend]:\n",
    "            if mutual != user_id and mutual not in direct_friends:\n",
    "                #count mutual friends\n",
    "                suggestions[mutual] = suggestions.get(mutual,0) + 1\n",
    "    sorted_suggestions = sorted(suggestions.items(), key = lambda x: x[1], reverse = True)\n",
    "    return [user_id for user_id, mutual_count in sorted_suggestions]\n",
    "\n",
    "#load the data\n",
    "data = load_data(\"massive_data.json\")\n",
    "user_id = 19\n",
    "recommended = find_people_you_may_know(user_id, data)\n",
    "print(recommended)"
   ]
  }
 ],
 "metadata": {
  "kernelspec": {
   "display_name": "Python [conda env:base] *",
   "language": "python",
   "name": "conda-base-py"
  },
  "language_info": {
   "codemirror_mode": {
    "name": "ipython",
    "version": 3
   },
   "file_extension": ".py",
   "mimetype": "text/x-python",
   "name": "python",
   "nbconvert_exporter": "python",
   "pygments_lexer": "ipython3",
   "version": "3.13.5"
  }
 },
 "nbformat": 4,
 "nbformat_minor": 5
}
