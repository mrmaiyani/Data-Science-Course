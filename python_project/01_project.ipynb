{
 "cells": [
  {
   "cell_type": "code",
   "execution_count": 1,
   "id": "ccfeec19-9945-400a-ae98-6ecd74b9abfd",
   "metadata": {},
   "outputs": [],
   "source": [
    "import json"
   ]
  },
  {
   "cell_type": "code",
   "execution_count": 2,
   "id": "4188f8cd-ca64-43d1-9e7f-26687f84fb52",
   "metadata": {},
   "outputs": [],
   "source": [
    "def load_data(filename):\n",
    "    with open (filename, \"r\") as f:\n",
    "        data = json.load(f)\n",
    "        return data"
   ]
  },
  {
   "cell_type": "code",
   "execution_count": 3,
   "id": "55970904-2ca7-42b3-862c-734e4c1c755a",
   "metadata": {},
   "outputs": [],
   "source": [
    "data = load_data(\"data.json\")"
   ]
  },
  {
   "cell_type": "code",
   "execution_count": 4,
   "id": "f9494fa0-0cc6-4ef4-9f04-bcbbb7482a3e",
   "metadata": {},
   "outputs": [
    {
     "data": {
      "text/plain": [
       "{'users': [{'id': 1, 'name': 'Utsav', 'friends': [2, 3], 'liked_pages': [101]},\n",
       "  {'id': 2, 'name': 'Drashti', 'friends': [1, 4], 'liked_pages': [102]},\n",
       "  {'id': 3, 'name': 'Chintan', 'friends': [1], 'liked_pages': [101, 103]},\n",
       "  {'id': 4, 'name': 'Riya', 'friends': [2], 'liked_pages': [104]}],\n",
       " 'pages': [{'id': 101, 'name': 'Python Developers'},\n",
       "  {'id': 102, 'name': 'Data Science Enthusiasts'},\n",
       "  {'id': 103, 'name': 'Ai & ML Community'},\n",
       "  {'id': 104, 'name': 'Web Dev Hub'}]}"
      ]
     },
     "execution_count": 4,
     "metadata": {},
     "output_type": "execute_result"
    }
   ],
   "source": [
    "data"
   ]
  },
  {
   "cell_type": "code",
   "execution_count": 5,
   "id": "60c2b76c-fc42-47eb-aa69-f0fdeb96f208",
   "metadata": {},
   "outputs": [
    {
     "data": {
      "text/plain": [
       "dict"
      ]
     },
     "execution_count": 5,
     "metadata": {},
     "output_type": "execute_result"
    }
   ],
   "source": [
    "type(data)"
   ]
  },
  {
   "cell_type": "code",
   "execution_count": 12,
   "id": "86e28764-ffc6-4fda-bc8a-a3c4e82ec7d8",
   "metadata": {},
   "outputs": [
    {
     "name": "stdout",
     "output_type": "stream",
     "text": [
      " - users and their connections:\n",
      "\n",
      "ID 1 : Utsav is friends with [2, 3] and liked pages are [101]\n",
      "ID 2 : Drashti is friends with [1, 4] and liked pages are [102]\n",
      "ID 3 : Chintan is friends with [1] and liked pages are [101, 103]\n",
      "ID 4 : Riya is friends with [2] and liked pages are [104]\n",
      "\n",
      " - pages information:\n",
      "\n",
      "101 : Python Developers\n",
      "102 : Data Science Enthusiasts\n",
      "103 : Ai & ML Community\n",
      "104 : Web Dev Hub\n"
     ]
    }
   ],
   "source": [
    "# write a function to display users and their connection\n",
    "def display_users(data):\n",
    "    print(\" - users and their connections:\\n\")\n",
    "    for user in data[\"users\"]:\n",
    "        print(f\"ID {user[\"id\"]} : {user[\"name\"]} is friends with {user[\"friends\"]} and liked pages are {user[\"liked_pages\"]}\")\n",
    "    print(\"\\n - pages information:\\n\")\n",
    "    for page in data[\"pages\"]:\n",
    "        print(f\"{page[\"id\"]} : {page[\"name\"]}\")\n",
    "\n",
    "display_users(data)"
   ]
  },
  {
   "cell_type": "code",
   "execution_count": null,
   "id": "f90fbadd-7224-48cb-9a63-b4a3b005f068",
   "metadata": {},
   "outputs": [],
   "source": []
  }
 ],
 "metadata": {
  "kernelspec": {
   "display_name": "Python [conda env:base] *",
   "language": "python",
   "name": "conda-base-py"
  },
  "language_info": {
   "codemirror_mode": {
    "name": "ipython",
    "version": 3
   },
   "file_extension": ".py",
   "mimetype": "text/x-python",
   "name": "python",
   "nbconvert_exporter": "python",
   "pygments_lexer": "ipython3",
   "version": "3.13.5"
  }
 },
 "nbformat": 4,
 "nbformat_minor": 5
}
