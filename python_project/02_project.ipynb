{
 "cells": [
  {
   "cell_type": "code",
   "execution_count": 4,
   "id": "75ec2cad-2e3d-4514-8f5f-76251993420c",
   "metadata": {},
   "outputs": [
    {
     "name": "stdout",
     "output_type": "stream",
     "text": [
      "data has been successfully cleaned\n"
     ]
    }
   ],
   "source": [
    "import json\n",
    "\n",
    "def cleaned_data(data):\n",
    "    #remove users with missing names:\n",
    "    data[\"users\"] = [user for user in data[\"users\"] if user[\"name\"].strip()]\n",
    "\n",
    "    #remove duplicate friends\n",
    "    for user in data[\"users\"]:\n",
    "        user[\"friends\"] = list(set(user[\"friends\"]))\n",
    "\n",
    "    #remove inactive user\n",
    "    data[\"users\"] = [user for user in data[\"users\"] if user[\"friends\"] or user[\"liked_pages\"]]\n",
    "\n",
    "    #remove duplicate pages\n",
    "    unique_pages = {}\n",
    "    for page in data[\"pages\"]:\n",
    "        unique_pages[page[\"id\"]]= page\n",
    "        data[\"pages\"]= list(unique_pages.values())\n",
    "    \n",
    "    return data\n",
    "\n",
    "\n",
    "# load the data\n",
    "data = json.load(open(\"data2.json\"))\n",
    "data = cleaned_data(data)\n",
    "json.dump(data, open(\"cleaned_data.json\",\"w\"), indent = 4)\n",
    "print(\"data has been successfully cleaned\")"
   ]
  },
  {
   "cell_type": "code",
   "execution_count": null,
   "id": "9d53d90d-490d-446a-8e3f-595ca1c93770",
   "metadata": {},
   "outputs": [],
   "source": []
  }
 ],
 "metadata": {
  "kernelspec": {
   "display_name": "Python [conda env:base] *",
   "language": "python",
   "name": "conda-base-py"
  },
  "language_info": {
   "codemirror_mode": {
    "name": "ipython",
    "version": 3
   },
   "file_extension": ".py",
   "mimetype": "text/x-python",
   "name": "python",
   "nbconvert_exporter": "python",
   "pygments_lexer": "ipython3",
   "version": "3.13.5"
  }
 },
 "nbformat": 4,
 "nbformat_minor": 5
}
